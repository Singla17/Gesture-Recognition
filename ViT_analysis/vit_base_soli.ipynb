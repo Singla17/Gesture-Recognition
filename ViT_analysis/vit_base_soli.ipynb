{
  "nbformat": 4,
  "nbformat_minor": 0,
  "metadata": {
    "colab": {
      "name": "vit_soli.ipynb",
      "provenance": [],
      "collapsed_sections": [
        "lnD8A5zYGnQc",
        "gI5VfJ3mFSdE",
        "nbgxNtb-GWCt",
        "ZVpOVM8jHMOz",
        "_5S5rKG4x1FE",
        "qVR4DBD8X6wa",
        "bcf2Bd6yaEhK",
        "SJGpjbQojNpq",
        "EGmSfVt9xtUG",
        "3ruRWnHwWol-"
      ],
      "toc_visible": true
    },
    "kernelspec": {
      "name": "python3",
      "display_name": "Python 3"
    },
    "language_info": {
      "name": "python"
    }
  },
  "cells": [
    {
      "cell_type": "markdown",
      "source": [
        "# Basic Setup"
      ],
      "metadata": {
        "id": "lnD8A5zYGnQc"
      }
    },
    {
      "cell_type": "code",
      "source": [
        "## Basic Imports\n",
        "import torch\n",
        "import numpy as np\n",
        "!pip install timm\n",
        "import timm\n",
        "import random\n",
        "import cv2"
      ],
      "metadata": {
        "colab": {
          "base_uri": "https://localhost:8080/"
        },
        "id": "UQ5i3VhfEp2r",
        "outputId": "0b4526e3-f12f-44fc-a50e-6869dccd0a49"
      },
      "execution_count": null,
      "outputs": [
        {
          "output_type": "stream",
          "name": "stdout",
          "text": [
            "Collecting timm\n",
            "  Downloading timm-0.5.4-py3-none-any.whl (431 kB)\n",
            "\u001b[?25l\r\u001b[K     |▊                               | 10 kB 21.9 MB/s eta 0:00:01\r\u001b[K     |█▌                              | 20 kB 19.0 MB/s eta 0:00:01\r\u001b[K     |██▎                             | 30 kB 20.5 MB/s eta 0:00:01\r\u001b[K     |███                             | 40 kB 18.1 MB/s eta 0:00:01\r\u001b[K     |███▉                            | 51 kB 14.0 MB/s eta 0:00:01\r\u001b[K     |████▋                           | 61 kB 15.9 MB/s eta 0:00:01\r\u001b[K     |█████▎                          | 71 kB 14.0 MB/s eta 0:00:01\r\u001b[K     |██████                          | 81 kB 13.6 MB/s eta 0:00:01\r\u001b[K     |██████▉                         | 92 kB 14.8 MB/s eta 0:00:01\r\u001b[K     |███████▋                        | 102 kB 13.7 MB/s eta 0:00:01\r\u001b[K     |████████▍                       | 112 kB 13.7 MB/s eta 0:00:01\r\u001b[K     |█████████▏                      | 122 kB 13.7 MB/s eta 0:00:01\r\u001b[K     |█████████▉                      | 133 kB 13.7 MB/s eta 0:00:01\r\u001b[K     |██████████▋                     | 143 kB 13.7 MB/s eta 0:00:01\r\u001b[K     |███████████▍                    | 153 kB 13.7 MB/s eta 0:00:01\r\u001b[K     |████████████▏                   | 163 kB 13.7 MB/s eta 0:00:01\r\u001b[K     |█████████████                   | 174 kB 13.7 MB/s eta 0:00:01\r\u001b[K     |█████████████▊                  | 184 kB 13.7 MB/s eta 0:00:01\r\u001b[K     |██████████████▍                 | 194 kB 13.7 MB/s eta 0:00:01\r\u001b[K     |███████████████▏                | 204 kB 13.7 MB/s eta 0:00:01\r\u001b[K     |████████████████                | 215 kB 13.7 MB/s eta 0:00:01\r\u001b[K     |████████████████▊               | 225 kB 13.7 MB/s eta 0:00:01\r\u001b[K     |█████████████████▌              | 235 kB 13.7 MB/s eta 0:00:01\r\u001b[K     |██████████████████▎             | 245 kB 13.7 MB/s eta 0:00:01\r\u001b[K     |███████████████████             | 256 kB 13.7 MB/s eta 0:00:01\r\u001b[K     |███████████████████▊            | 266 kB 13.7 MB/s eta 0:00:01\r\u001b[K     |████████████████████▌           | 276 kB 13.7 MB/s eta 0:00:01\r\u001b[K     |█████████████████████▎          | 286 kB 13.7 MB/s eta 0:00:01\r\u001b[K     |██████████████████████          | 296 kB 13.7 MB/s eta 0:00:01\r\u001b[K     |██████████████████████▉         | 307 kB 13.7 MB/s eta 0:00:01\r\u001b[K     |███████████████████████▌        | 317 kB 13.7 MB/s eta 0:00:01\r\u001b[K     |████████████████████████▎       | 327 kB 13.7 MB/s eta 0:00:01\r\u001b[K     |█████████████████████████       | 337 kB 13.7 MB/s eta 0:00:01\r\u001b[K     |█████████████████████████▉      | 348 kB 13.7 MB/s eta 0:00:01\r\u001b[K     |██████████████████████████▋     | 358 kB 13.7 MB/s eta 0:00:01\r\u001b[K     |███████████████████████████▍    | 368 kB 13.7 MB/s eta 0:00:01\r\u001b[K     |████████████████████████████    | 378 kB 13.7 MB/s eta 0:00:01\r\u001b[K     |████████████████████████████▉   | 389 kB 13.7 MB/s eta 0:00:01\r\u001b[K     |█████████████████████████████▋  | 399 kB 13.7 MB/s eta 0:00:01\r\u001b[K     |██████████████████████████████▍ | 409 kB 13.7 MB/s eta 0:00:01\r\u001b[K     |███████████████████████████████▏| 419 kB 13.7 MB/s eta 0:00:01\r\u001b[K     |████████████████████████████████| 430 kB 13.7 MB/s eta 0:00:01\r\u001b[K     |████████████████████████████████| 431 kB 13.7 MB/s \n",
            "\u001b[?25hRequirement already satisfied: torchvision in /usr/local/lib/python3.7/dist-packages (from timm) (0.11.1+cu111)\n",
            "Requirement already satisfied: torch>=1.4 in /usr/local/lib/python3.7/dist-packages (from timm) (1.10.0+cu111)\n",
            "Requirement already satisfied: typing-extensions in /usr/local/lib/python3.7/dist-packages (from torch>=1.4->timm) (4.1.1)\n",
            "Requirement already satisfied: pillow!=8.3.0,>=5.3.0 in /usr/local/lib/python3.7/dist-packages (from torchvision->timm) (7.1.2)\n",
            "Requirement already satisfied: numpy in /usr/local/lib/python3.7/dist-packages (from torchvision->timm) (1.21.5)\n",
            "Installing collected packages: timm\n",
            "Successfully installed timm-0.5.4\n"
          ]
        }
      ]
    },
    {
      "cell_type": "code",
      "source": [
        "## Mounting the drive file system\n",
        "from google.colab import drive\n",
        "drive.mount('/content/drive')"
      ],
      "metadata": {
        "colab": {
          "base_uri": "https://localhost:8080/"
        },
        "id": "jh203zGBE5Ti",
        "outputId": "13e2d3d6-1566-42c7-99af-f9a4ec165c4f"
      },
      "execution_count": null,
      "outputs": [
        {
          "output_type": "stream",
          "name": "stdout",
          "text": [
            "Mounted at /content/drive\n"
          ]
        }
      ]
    },
    {
      "cell_type": "code",
      "execution_count": null,
      "metadata": {
        "id": "1IE5NCi2ECEz"
      },
      "outputs": [],
      "source": [
        "def set_seed(seed):\n",
        "    \"\"\"\n",
        "    This method helps to seed the libraries, it is important to get reproducible results\n",
        "    \"\"\"\n",
        "    torch.manual_seed(seed)\n",
        "    torch.cuda.manual_seed(seed)\n",
        "    torch.cuda.manual_seed_all(seed)\n",
        "    np.random.seed(seed)\n",
        "    random.seed(seed)\n",
        "    torch.backends.cudnn.deterministic = True\n",
        "    torch.backends.cudnn.benchmark = True"
      ]
    },
    {
      "cell_type": "code",
      "source": [
        "set_seed(42)"
      ],
      "metadata": {
        "id": "yo8DswnmGqyj"
      },
      "execution_count": null,
      "outputs": []
    },
    {
      "cell_type": "markdown",
      "source": [
        "#50-50 Split"
      ],
      "metadata": {
        "id": "MklrCNiaExsC"
      }
    },
    {
      "cell_type": "markdown",
      "source": [
        "##Data Setup"
      ],
      "metadata": {
        "id": "gI5VfJ3mFSdE"
      }
    },
    {
      "cell_type": "code",
      "source": [
        "import pickle\n",
        "from random import sample\n",
        "def get_data(train,base,number_of_frames,remove_gestures,f_size):\n",
        "  \n",
        "  if train:\n",
        "    with open(base+'train.pickle', 'rb') as f:\n",
        "        data = pickle.load(f)\n",
        "  else:\n",
        "    with open(base+'test.pickle', 'rb') as f:\n",
        "      data = pickle.load(f)\n",
        "\n",
        "  X = []\n",
        "  y = []\n",
        "\n",
        "  keys = np.zeros(11-len(remove_gestures),dtype=int)\n",
        "  j=0\n",
        "  for i in range(11):\n",
        "    if i not in remove_gestures:#list of gestures to be removed [3,4]\n",
        "      keys[j]=i\n",
        "      j= j+1\n",
        "\n",
        "  keys = list(keys)    \n",
        "  for key in keys:\n",
        "    gesture_data = data[key]\n",
        "    for i in range(len(gesture_data)):\n",
        "      datapt_arr = gesture_data[i]\n",
        "      datapt= (datapt_arr[0]+datapt_arr[1]+datapt_arr[2]+datapt_arr[3])/4\n",
        "      datapt1 = np.sum(datapt,axis=2)\n",
        "      datapt2 = np.sum(datapt,axis=1)\n",
        "      datapt = np.hstack((datapt1,datapt2))\n",
        "      datapt = datapt.T\n",
        "      num_frames = np.shape(datapt)[1]\n",
        "\n",
        "      if num_frames < number_of_frames:\n",
        "          size = number_of_frames - num_frames\n",
        "          use = np.zeros((64,size))\n",
        "          datapt = np.hstack((datapt,use))      ## subsampling and extension so that finally all sequences are of fixed length \n",
        "\n",
        "      if num_frames > number_of_frames:\n",
        "          datapt = datapt.T\n",
        "          datapt = datapt[np.sort(np.random.randint(datapt.shape[0],size=number_of_frames)),:]\n",
        "          datapt = datapt.T\n",
        "\n",
        "        \n",
        "      datapt = np.reshape(datapt,(64,number_of_frames,1))\n",
        "      datapt = np.tile(datapt,(1,1,3))\n",
        "      datapt = cv2.resize(datapt,(f_size,f_size),interpolation=cv2.INTER_CUBIC)\n",
        "      \n",
        "      minimum = datapt.min()\n",
        "      maximum = datapt.max()                                ## Linear Normalization of pixel values to 0-1\n",
        "      datapt = (datapt-minimum)/((maximum-minimum))\n",
        "\n",
        "      X.append(datapt)\n",
        "      y_temp = np.zeros(11-len(remove_gestures))\n",
        "      y_temp[keys.index(key)]=1\n",
        "      y.append(y_temp)\n",
        "  return X,y"
      ],
      "metadata": {
        "id": "pydFufcZXiGx"
      },
      "execution_count": null,
      "outputs": []
    },
    {
      "cell_type": "code",
      "source": [
        "from torch.utils.data import Dataset\n",
        "class SoliData(Dataset):\n",
        "  def __init__(self,train,X_train,y_train,X_test,y_test):\n",
        "        if train:\n",
        "            self.data= X_train               # in this just define dataset of train and test after split into self.data\n",
        "            self.target = y_train\n",
        "        else:\n",
        "            self.data = X_test\n",
        "            self.target = y_test             \n",
        "\n",
        "  def __getitem__(self, index):\n",
        "        target = self.target[index]                                                     # gets data point sequentially\n",
        "        x = self.data[index]\n",
        "        x = np.swapaxes(x,0,2)\n",
        "        x = np.swapaxes(x,1,2)\n",
        "        return x, target\n",
        "\n",
        "  def __len__(self):\n",
        "        return len(self.data)"
      ],
      "metadata": {
        "id": "CGN9B4FCGCT4"
      },
      "execution_count": null,
      "outputs": []
    },
    {
      "cell_type": "code",
      "source": [
        "base = \"/content/drive/MyDrive/data_soli_dictionaries/\"\n",
        "X_train, y_train = get_data(True,base,40,[],224)\n",
        "X_test, y_test = get_data(False,base,40,[],224)"
      ],
      "metadata": {
        "id": "XznOp6UZGjcQ"
      },
      "execution_count": null,
      "outputs": []
    },
    {
      "cell_type": "code",
      "source": [
        "print(X_train[0].shape)"
      ],
      "metadata": {
        "colab": {
          "base_uri": "https://localhost:8080/"
        },
        "id": "ZYglsK4CbaF6",
        "outputId": "3efbe20f-df88-4c80-dc29-4cce7c5d4784"
      },
      "execution_count": null,
      "outputs": [
        {
          "output_type": "stream",
          "name": "stdout",
          "text": [
            "(224, 224, 3)\n"
          ]
        }
      ]
    },
    {
      "cell_type": "code",
      "source": [
        "import matplotlib.pyplot as plt\n",
        "plt.imshow(X_train[700])"
      ],
      "metadata": {
        "colab": {
          "base_uri": "https://localhost:8080/",
          "height": 286
        },
        "id": "DLRQqjgL_bZk",
        "outputId": "dc6bf99a-9e4b-4618-9778-0a33f2b6e9cc"
      },
      "execution_count": null,
      "outputs": [
        {
          "output_type": "execute_result",
          "data": {
            "text/plain": [
              "<matplotlib.image.AxesImage at 0x7fa171380850>"
            ]
          },
          "metadata": {},
          "execution_count": 12
        },
        {
          "output_type": "display_data",
          "data": {
            "image/png": "[encoded data removed]",
            "text/plain": [
              "<Figure size 432x288 with 1 Axes>"
            ]
          },
          "metadata": {
            "needs_background": "light"
          }
        }
      ]
    },
    {
      "cell_type": "markdown",
      "source": [
        "## Model Setup"
      ],
      "metadata": {
        "id": "nbgxNtb-GWCt"
      }
    },
    {
      "cell_type": "code",
      "source": [
        "def freeze_all_blocks(model,num_blocks,device):\n",
        "    \"\"\"\n",
        "    This method is used to freeze all blocks of ViT\n",
        "    \"\"\"\n",
        "    if device == \"cuda\":\n",
        "      for block in model.module.blocks[:num_blocks]:\n",
        "          for param in block.parameters():\n",
        "              param.requires_grad=False\n",
        "    else:\n",
        "      for block in model.blocks[:num_blocks]:\n",
        "          for param in block.parameters():\n",
        "              param.requires_grad=False\n",
        "\n",
        "    return model"
      ],
      "metadata": {
        "id": "upZZpNGisYyd"
      },
      "execution_count": null,
      "outputs": []
    },
    {
      "cell_type": "code",
      "source": [
        "def unfreeze_blocks(model, block_no,device):\n",
        "    \"\"\"\n",
        "    This method is used to unfreeze some blocks of the pretrained-ViT\n",
        "    \"\"\"\n",
        "    if device ==\"cuda\":\n",
        "      block=model.module.blocks[block_no]\n",
        "      for param in block.parameters():\n",
        "          param.requires_grad=True\n",
        "    else:\n",
        "      block=model.blocks[block_no]\n",
        "      for param in block.parameters():\n",
        "          param.requires_grad=True\n",
        "\n",
        "    return model"
      ],
      "metadata": {
        "id": "TQzmaZ5wtTco"
      },
      "execution_count": null,
      "outputs": []
    },
    {
      "cell_type": "code",
      "source": [
        "model = timm.create_model('vit_base_patch16_224', pretrained=True, num_classes=11)\n",
        "device = 'cuda' if torch.cuda.is_available() else 'cpu'\n",
        "model = model.to(device)"
      ],
      "metadata": {
        "id": "7AcimJl6EzfZ"
      },
      "execution_count": null,
      "outputs": []
    },
    {
      "cell_type": "code",
      "source": [
        "print(model)"
      ],
      "metadata": {
        "colab": {
          "base_uri": "https://localhost:8080/"
        },
        "id": "TX5Jm58wtA4q",
        "outputId": "26fa9302-6d54-4b9d-902c-d96fa7b434eb"
      },
      "execution_count": null,
      "outputs": [
        {
          "output_type": "stream",
          "name": "stdout",
          "text": [
            "VisionTransformer(\n",
            "  (patch_embed): PatchEmbed(\n",
            "    (proj): Conv2d(3, 768, kernel_size=(16, 16), stride=(16, 16))\n",
            "    (norm): Identity()\n",
            "  )\n",
            "  (pos_drop): Dropout(p=0.0, inplace=False)\n",
            "  (blocks): Sequential(\n",
            "    (0): Block(\n",
            "      (norm1): LayerNorm((768,), eps=1e-06, elementwise_affine=True)\n",
            "      (attn): Attention(\n",
            "        (qkv): Linear(in_features=768, out_features=2304, bias=True)\n",
            "        (attn_drop): Dropout(p=0.0, inplace=False)\n",
            "        (proj): Linear(in_features=768, out_features=768, bias=True)\n",
            "        (proj_drop): Dropout(p=0.0, inplace=False)\n",
            "      )\n",
            "      (drop_path): Identity()\n",
            "      (norm2): LayerNorm((768,), eps=1e-06, elementwise_affine=True)\n",
            "      (mlp): Mlp(\n",
            "        (fc1): Linear(in_features=768, out_features=3072, bias=True)\n",
            "        (act): GELU()\n",
            "        (drop1): Dropout(p=0.0, inplace=False)\n",
            "        (fc2): Linear(in_features=3072, out_features=768, bias=True)\n",
            "        (drop2): Dropout(p=0.0, inplace=False)\n",
            "      )\n",
            "    )\n",
            "    (1): Block(\n",
            "      (norm1): LayerNorm((768,), eps=1e-06, elementwise_affine=True)\n",
            "      (attn): Attention(\n",
            "        (qkv): Linear(in_features=768, out_features=2304, bias=True)\n",
            "        (attn_drop): Dropout(p=0.0, inplace=False)\n",
            "        (proj): Linear(in_features=768, out_features=768, bias=True)\n",
            "        (proj_drop): Dropout(p=0.0, inplace=False)\n",
            "      )\n",
            "      (drop_path): Identity()\n",
            "      (norm2): LayerNorm((768,), eps=1e-06, elementwise_affine=True)\n",
            "      (mlp): Mlp(\n",
            "        (fc1): Linear(in_features=768, out_features=3072, bias=True)\n",
            "        (act): GELU()\n",
            "        (drop1): Dropout(p=0.0, inplace=False)\n",
            "        (fc2): Linear(in_features=3072, out_features=768, bias=True)\n",
            "        (drop2): Dropout(p=0.0, inplace=False)\n",
            "      )\n",
            "    )\n",
            "    (2): Block(\n",
            "      (norm1): LayerNorm((768,), eps=1e-06, elementwise_affine=True)\n",
            "      (attn): Attention(\n",
            "        (qkv): Linear(in_features=768, out_features=2304, bias=True)\n",
            "        (attn_drop): Dropout(p=0.0, inplace=False)\n",
            "        (proj): Linear(in_features=768, out_features=768, bias=True)\n",
            "        (proj_drop): Dropout(p=0.0, inplace=False)\n",
            "      )\n",
            "      (drop_path): Identity()\n",
            "      (norm2): LayerNorm((768,), eps=1e-06, elementwise_affine=True)\n",
            "      (mlp): Mlp(\n",
            "        (fc1): Linear(in_features=768, out_features=3072, bias=True)\n",
            "        (act): GELU()\n",
            "        (drop1): Dropout(p=0.0, inplace=False)\n",
            "        (fc2): Linear(in_features=3072, out_features=768, bias=True)\n",
            "        (drop2): Dropout(p=0.0, inplace=False)\n",
            "      )\n",
            "    )\n",
            "    (3): Block(\n",
            "      (norm1): LayerNorm((768,), eps=1e-06, elementwise_affine=True)\n",
            "      (attn): Attention(\n",
            "        (qkv): Linear(in_features=768, out_features=2304, bias=True)\n",
            "        (attn_drop): Dropout(p=0.0, inplace=False)\n",
            "        (proj): Linear(in_features=768, out_features=768, bias=True)\n",
            "        (proj_drop): Dropout(p=0.0, inplace=False)\n",
            "      )\n",
            "      (drop_path): Identity()\n",
            "      (norm2): LayerNorm((768,), eps=1e-06, elementwise_affine=True)\n",
            "      (mlp): Mlp(\n",
            "        (fc1): Linear(in_features=768, out_features=3072, bias=True)\n",
            "        (act): GELU()\n",
            "        (drop1): Dropout(p=0.0, inplace=False)\n",
            "        (fc2): Linear(in_features=3072, out_features=768, bias=True)\n",
            "        (drop2): Dropout(p=0.0, inplace=False)\n",
            "      )\n",
            "    )\n",
            "    (4): Block(\n",
            "      (norm1): LayerNorm((768,), eps=1e-06, elementwise_affine=True)\n",
            "      (attn): Attention(\n",
            "        (qkv): Linear(in_features=768, out_features=2304, bias=True)\n",
            "        (attn_drop): Dropout(p=0.0, inplace=False)\n",
            "        (proj): Linear(in_features=768, out_features=768, bias=True)\n",
            "        (proj_drop): Dropout(p=0.0, inplace=False)\n",
            "      )\n",
            "      (drop_path): Identity()\n",
            "      (norm2): LayerNorm((768,), eps=1e-06, elementwise_affine=True)\n",
            "      (mlp): Mlp(\n",
            "        (fc1): Linear(in_features=768, out_features=3072, bias=True)\n",
            "        (act): GELU()\n",
            "        (drop1): Dropout(p=0.0, inplace=False)\n",
            "        (fc2): Linear(in_features=3072, out_features=768, bias=True)\n",
            "        (drop2): Dropout(p=0.0, inplace=False)\n",
            "      )\n",
            "    )\n",
            "    (5): Block(\n",
            "      (norm1): LayerNorm((768,), eps=1e-06, elementwise_affine=True)\n",
            "      (attn): Attention(\n",
            "        (qkv): Linear(in_features=768, out_features=2304, bias=True)\n",
            "        (attn_drop): Dropout(p=0.0, inplace=False)\n",
            "        (proj): Linear(in_features=768, out_features=768, bias=True)\n",
            "        (proj_drop): Dropout(p=0.0, inplace=False)\n",
            "      )\n",
            "      (drop_path): Identity()\n",
            "      (norm2): LayerNorm((768,), eps=1e-06, elementwise_affine=True)\n",
            "      (mlp): Mlp(\n",
            "        (fc1): Linear(in_features=768, out_features=3072, bias=True)\n",
            "        (act): GELU()\n",
            "        (drop1): Dropout(p=0.0, inplace=False)\n",
            "        (fc2): Linear(in_features=3072, out_features=768, bias=True)\n",
            "        (drop2): Dropout(p=0.0, inplace=False)\n",
            "      )\n",
            "    )\n",
            "    (6): Block(\n",
            "      (norm1): LayerNorm((768,), eps=1e-06, elementwise_affine=True)\n",
            "      (attn): Attention(\n",
            "        (qkv): Linear(in_features=768, out_features=2304, bias=True)\n",
            "        (attn_drop): Dropout(p=0.0, inplace=False)\n",
            "        (proj): Linear(in_features=768, out_features=768, bias=True)\n",
            "        (proj_drop): Dropout(p=0.0, inplace=False)\n",
            "      )\n",
            "      (drop_path): Identity()\n",
            "      (norm2): LayerNorm((768,), eps=1e-06, elementwise_affine=True)\n",
            "      (mlp): Mlp(\n",
            "        (fc1): Linear(in_features=768, out_features=3072, bias=True)\n",
            "        (act): GELU()\n",
            "        (drop1): Dropout(p=0.0, inplace=False)\n",
            "        (fc2): Linear(in_features=3072, out_features=768, bias=True)\n",
            "        (drop2): Dropout(p=0.0, inplace=False)\n",
            "      )\n",
            "    )\n",
            "    (7): Block(\n",
            "      (norm1): LayerNorm((768,), eps=1e-06, elementwise_affine=True)\n",
            "      (attn): Attention(\n",
            "        (qkv): Linear(in_features=768, out_features=2304, bias=True)\n",
            "        (attn_drop): Dropout(p=0.0, inplace=False)\n",
            "        (proj): Linear(in_features=768, out_features=768, bias=True)\n",
            "        (proj_drop): Dropout(p=0.0, inplace=False)\n",
            "      )\n",
            "      (drop_path): Identity()\n",
            "      (norm2): LayerNorm((768,), eps=1e-06, elementwise_affine=True)\n",
            "      (mlp): Mlp(\n",
            "        (fc1): Linear(in_features=768, out_features=3072, bias=True)\n",
            "        (act): GELU()\n",
            "        (drop1): Dropout(p=0.0, inplace=False)\n",
            "        (fc2): Linear(in_features=3072, out_features=768, bias=True)\n",
            "        (drop2): Dropout(p=0.0, inplace=False)\n",
            "      )\n",
            "    )\n",
            "    (8): Block(\n",
            "      (norm1): LayerNorm((768,), eps=1e-06, elementwise_affine=True)\n",
            "      (attn): Attention(\n",
            "        (qkv): Linear(in_features=768, out_features=2304, bias=True)\n",
            "        (attn_drop): Dropout(p=0.0, inplace=False)\n",
            "        (proj): Linear(in_features=768, out_features=768, bias=True)\n",
            "        (proj_drop): Dropout(p=0.0, inplace=False)\n",
            "      )\n",
            "      (drop_path): Identity()\n",
            "      (norm2): LayerNorm((768,), eps=1e-06, elementwise_affine=True)\n",
            "      (mlp): Mlp(\n",
            "        (fc1): Linear(in_features=768, out_features=3072, bias=True)\n",
            "        (act): GELU()\n",
            "        (drop1): Dropout(p=0.0, inplace=False)\n",
            "        (fc2): Linear(in_features=3072, out_features=768, bias=True)\n",
            "        (drop2): Dropout(p=0.0, inplace=False)\n",
            "      )\n",
            "    )\n",
            "    (9): Block(\n",
            "      (norm1): LayerNorm((768,), eps=1e-06, elementwise_affine=True)\n",
            "      (attn): Attention(\n",
            "        (qkv): Linear(in_features=768, out_features=2304, bias=True)\n",
            "        (attn_drop): Dropout(p=0.0, inplace=False)\n",
            "        (proj): Linear(in_features=768, out_features=768, bias=True)\n",
            "        (proj_drop): Dropout(p=0.0, inplace=False)\n",
            "      )\n",
            "      (drop_path): Identity()\n",
            "      (norm2): LayerNorm((768,), eps=1e-06, elementwise_affine=True)\n",
            "      (mlp): Mlp(\n",
            "        (fc1): Linear(in_features=768, out_features=3072, bias=True)\n",
            "        (act): GELU()\n",
            "        (drop1): Dropout(p=0.0, inplace=False)\n",
            "        (fc2): Linear(in_features=3072, out_features=768, bias=True)\n",
            "        (drop2): Dropout(p=0.0, inplace=False)\n",
            "      )\n",
            "    )\n",
            "    (10): Block(\n",
            "      (norm1): LayerNorm((768,), eps=1e-06, elementwise_affine=True)\n",
            "      (attn): Attention(\n",
            "        (qkv): Linear(in_features=768, out_features=2304, bias=True)\n",
            "        (attn_drop): Dropout(p=0.0, inplace=False)\n",
            "        (proj): Linear(in_features=768, out_features=768, bias=True)\n",
            "        (proj_drop): Dropout(p=0.0, inplace=False)\n",
            "      )\n",
            "      (drop_path): Identity()\n",
            "      (norm2): LayerNorm((768,), eps=1e-06, elementwise_affine=True)\n",
            "      (mlp): Mlp(\n",
            "        (fc1): Linear(in_features=768, out_features=3072, bias=True)\n",
            "        (act): GELU()\n",
            "        (drop1): Dropout(p=0.0, inplace=False)\n",
            "        (fc2): Linear(in_features=3072, out_features=768, bias=True)\n",
            "        (drop2): Dropout(p=0.0, inplace=False)\n",
            "      )\n",
            "    )\n",
            "    (11): Block(\n",
            "      (norm1): LayerNorm((768,), eps=1e-06, elementwise_affine=True)\n",
            "      (attn): Attention(\n",
            "        (qkv): Linear(in_features=768, out_features=2304, bias=True)\n",
            "        (attn_drop): Dropout(p=0.0, inplace=False)\n",
            "        (proj): Linear(in_features=768, out_features=768, bias=True)\n",
            "        (proj_drop): Dropout(p=0.0, inplace=False)\n",
            "      )\n",
            "      (drop_path): Identity()\n",
            "      (norm2): LayerNorm((768,), eps=1e-06, elementwise_affine=True)\n",
            "      (mlp): Mlp(\n",
            "        (fc1): Linear(in_features=768, out_features=3072, bias=True)\n",
            "        (act): GELU()\n",
            "        (drop1): Dropout(p=0.0, inplace=False)\n",
            "        (fc2): Linear(in_features=3072, out_features=768, bias=True)\n",
            "        (drop2): Dropout(p=0.0, inplace=False)\n",
            "      )\n",
            "    )\n",
            "  )\n",
            "  (norm): LayerNorm((768,), eps=1e-06, elementwise_affine=True)\n",
            "  (pre_logits): Identity()\n",
            "  (head): Linear(in_features=768, out_features=11, bias=True)\n",
            ")\n"
          ]
        }
      ]
    },
    {
      "cell_type": "markdown",
      "source": [
        "## Training Setup"
      ],
      "metadata": {
        "id": "ZVpOVM8jHMOz"
      }
    },
    {
      "cell_type": "code",
      "source": [
        "import torch.nn as nn\n",
        "import torch.optim as opti\n",
        "import torch.nn.functional as func\n",
        "import torch.backends.cudnn as cudnn\n",
        "import matplotlib.pyplot as plt\n",
        "from torch.utils.data import Dataset, DataLoader\n",
        "import statistics"
      ],
      "metadata": {
        "id": "KOg9394hHaP3"
      },
      "execution_count": null,
      "outputs": []
    },
    {
      "cell_type": "code",
      "source": [
        "def visualization(loss_arr,epo):\n",
        "  x = np.linspace(1,epo,epo)\n",
        "  plt.plot(x,loss_arr, label='Training Loss')\n",
        "  plt.ylabel('Loss')\n",
        "  plt.xlabel('Epochs')\n",
        "  plt.title('Training Curve')\n",
        "  plt.legend()\n",
        "  plt.show()"
      ],
      "metadata": {
        "id": "ARPiI_ZcHOsO"
      },
      "execution_count": null,
      "outputs": []
    },
    {
      "cell_type": "code",
      "source": [
        "def train_single_epoch(lr,criterion,optimizer,device,nnet,trainloader,bsize,loss):\n",
        "  nnet.train()                        ## a pytorch routine it is to turn ON some advanced layers which were turned OFF during testing  \n",
        "  tloss =0\n",
        "  for index,(x,y) in enumerate(trainloader):\n",
        "    x= x.to(device).float()\n",
        "    if loss == 'CrossEntropy':\n",
        "      y = y.to(device).long()\n",
        "    else:\n",
        "      y = y.to(device).float()\n",
        "    optimizer.zero_grad()          ## zeroing the gradients to nullify the effects of previous iterations\n",
        "    pred_y = nnet(x)\n",
        "    loss = criterion(pred_y,y)\n",
        "    loss.backward()\n",
        "    optimizer.step()\n",
        "    tloss += loss.item() \n",
        "  tloss /= index\n",
        "\n",
        "  return tloss"
      ],
      "metadata": {
        "id": "WmG9JnnUHdvF"
      },
      "execution_count": null,
      "outputs": []
    },
    {
      "cell_type": "code",
      "source": [
        "def training_scratch(nnet,lr,criterion, epochs, batch_size,loss,mom,trainset,sgd,verbose):\n",
        "  print('Data Setup Started')\n",
        "  trainloader = DataLoader(trainset, batch_size=batch_size, shuffle=True, num_workers=2)\n",
        "  device = 'cuda' if torch.cuda.is_available() else 'cpu'\n",
        "  print('Data Setup Completed')\n",
        "\n",
        "  print('Building model')\n",
        "\n",
        "  nnet = nnet.to(device)\n",
        "  if device == 'cuda':\n",
        "      nnet = torch.nn.DataParallel(nnet)                                           ## for using multiple GPUs\n",
        "      cudnn.benchmark = True\n",
        "\n",
        "  if sgd:\n",
        "    optimizer = opti.SGD(nnet.parameters(), lr,mom) \n",
        "  else:\n",
        "    optimizer = opti.Adam(nnet.parameters(), lr) \n",
        "\n",
        "  trainloss = []\n",
        "\n",
        "  for epoch in range(epochs):\n",
        "    l= train_single_epoch(lr,criterion,optimizer,device,nnet,trainloader,batch_size,loss) \n",
        "    trainloss.append(l)\n",
        "\n",
        "    if verbose:\n",
        "      print(\"The loss at epoch {} was \".format(epoch)+str(l))\n",
        "  \n",
        "  visualization(trainloss,epochs)\n",
        "\n",
        "  print(\"Training Completed.\")\n",
        "  return nnet"
      ],
      "metadata": {
        "id": "9kKM0NOLxTx1"
      },
      "execution_count": null,
      "outputs": []
    },
    {
      "cell_type": "code",
      "source": [
        "def training(nnet,lr,criterion, epochs, batch_size,loss,mom,trainset,sgd,unfreeze_after,num_blocks,lr_decay,verbose):\n",
        "  print('Data Setup Started')\n",
        "  trainloader = DataLoader(trainset, batch_size=batch_size, shuffle=True, num_workers=2)\n",
        "  device = 'cuda' if torch.cuda.is_available() else 'cpu'\n",
        "  print('Data Setup Completed')\n",
        "\n",
        "  print('Building model')\n",
        "\n",
        "  nnet = nnet.to(device)\n",
        "  if device == 'cuda':\n",
        "      nnet = torch.nn.DataParallel(nnet)                                           ## for using multiple GPUs\n",
        "      cudnn.benchmark = True\n",
        "  nnet = freeze_all_blocks(nnet,num_blocks,device)\n",
        "\n",
        "  if sgd:\n",
        "    optimizer = opti.SGD(nnet.parameters(), lr,mom) \n",
        "  else:\n",
        "    optimizer = opti.Adam(nnet.parameters(), lr) \n",
        "\n",
        "  trainloss = []\n",
        "  block_to_unfreeze=0\n",
        "\n",
        "  for epoch in range(epochs):\n",
        "    l= train_single_epoch(lr,criterion,optimizer,device,nnet,trainloader,batch_size,loss) \n",
        "    trainloss.append(l)\n",
        "\n",
        "    if block_to_unfreeze<=(num_blocks-1):\n",
        "      if (epoch+1)%unfreeze_after==0:\n",
        "        nnet=unfreeze_blocks(nnet,block_to_unfreeze,device)\n",
        "        block_to_unfreeze+=1\n",
        "\n",
        "        if sgd:\n",
        "          optimizer = opti.SGD(nnet.parameters(), lr_decay*lr,mom) \n",
        "        else:\n",
        "          optimizer = opti.Adam(nnet.parameters(), lr_decay*lr)\n",
        "        lr = lr*lr_decay\n",
        "\n",
        "    if verbose:\n",
        "      print(\"The loss at epoch {} was \".format(epoch)+str(l))\n",
        "  \n",
        "  visualization(trainloss,epochs)\n",
        "\n",
        "  print(\"Training Completed.\")\n",
        "  return nnet"
      ],
      "metadata": {
        "id": "g0oBTTFAH-BA"
      },
      "execution_count": null,
      "outputs": []
    },
    {
      "cell_type": "code",
      "source": [
        "from sklearn.metrics import confusion_matrix\n",
        "\n",
        "def test(testset,nnet,device,loss):\n",
        "  predictions = []\n",
        "  actual = []\n",
        "  \n",
        "  testloader = DataLoader(testset, batch_size=1, shuffle=True, num_workers=2)\n",
        "  nnet.eval()                     ## a pytorch routine it is to turn OFF some advanced layers during testing   \n",
        "  correct = 0\n",
        "  total = 0\n",
        "  with torch.no_grad():          ## turn OFF autograd\n",
        "    for index,(x,y) in enumerate(testloader):\n",
        "      total = total + 1\n",
        "      x= x.to(device).float()\n",
        "\n",
        "      if loss == 'CrossEntropy':\n",
        "        y = y.to(device).long()\n",
        "      else:\n",
        "        y = y.to(device).float()\n",
        "\n",
        "      pred_ysf = nnet(x)\n",
        "      pred_y = torch.max(pred_ysf,1)[1][0]\n",
        "      check_y = torch.max(y,1)[1][0]    ## to get the index of maximum value\n",
        "      predictions.append(pred_y.item())\n",
        "      actual.append(check_y.item())\n",
        "      if (pred_y) == (check_y) :\n",
        "        correct = correct +1\n",
        "  conf = confusion_matrix(actual,predictions)\n",
        "  return (correct/total),conf"
      ],
      "metadata": {
        "id": "H7i3f6hxIfuU"
      },
      "execution_count": null,
      "outputs": []
    },
    {
      "cell_type": "code",
      "source": [
        "def loss_fn(outputs, labels):\n",
        "    \"\"\"\n",
        "    custom loss function: Implements Cross Entropy loss for one hot output representations\n",
        "    refer: https://discuss.pytorch.org/t/cross-entropy-with-one-hot-targets/13580/2\n",
        "    \"\"\"\n",
        "    _, label = labels.max(dim=1)     ## because labels are of dimension (b_size,num_classes)\n",
        "    return nn.CrossEntropyLoss()(outputs, label)"
      ],
      "metadata": {
        "id": "Bbp6gvemcSid"
      },
      "execution_count": null,
      "outputs": []
    },
    {
      "cell_type": "markdown",
      "source": [
        "## Training"
      ],
      "metadata": {
        "id": "HWgDsmGsgV99"
      }
    },
    {
      "cell_type": "markdown",
      "source": [
        "### Training from scratch"
      ],
      "metadata": {
        "id": "_5S5rKG4x1FE"
      }
    },
    {
      "cell_type": "code",
      "source": [
        "model = timm.create_model('vit_base_patch16_224', pretrained=False, num_classes=11)\n",
        "trainset = SoliData(True,X_train,y_train,X_test,y_test)\n",
        "model = training_scratch(model,0.0003,loss_fn,30,32,'CrossEntropy',0.9,trainset,False,True)"
      ],
      "metadata": {
        "colab": {
          "base_uri": "https://localhost:8080/",
          "height": 885
        },
        "id": "MFwnhZsZgXfW",
        "outputId": "5b9c41e6-32a5-4399-eee6-f2f50f4ab617"
      },
      "execution_count": null,
      "outputs": [
        {
          "output_type": "stream",
          "name": "stdout",
          "text": [
            "Data Setup Started\n",
            "Data Setup Completed\n",
            "Building model\n",
            "The loss at epoch 0 was 2.89311052477637\n",
            "The loss at epoch 1 was 2.533613609713177\n",
            "The loss at epoch 2 was 2.504654413045839\n",
            "The loss at epoch 3 was 2.5024871271710065\n",
            "The loss at epoch 4 was 2.38041120351747\n",
            "The loss at epoch 5 was 2.270278123922126\n",
            "The loss at epoch 6 was 2.080661030702813\n",
            "The loss at epoch 7 was 1.9673229455947876\n",
            "The loss at epoch 8 was 1.9094179591467215\n",
            "The loss at epoch 9 was 2.0801554391550465\n",
            "The loss at epoch 10 was 1.9932362257048142\n",
            "The loss at epoch 11 was 1.8996281707009604\n",
            "The loss at epoch 12 was 1.8055882980657179\n",
            "The loss at epoch 13 was 1.6782463317693666\n",
            "The loss at epoch 14 was 1.5719463908395102\n",
            "The loss at epoch 15 was 1.5186458992403606\n",
            "The loss at epoch 16 was 1.4983584243197774\n",
            "The loss at epoch 17 was 1.4314557383226794\n",
            "The loss at epoch 18 was 1.3620694958886435\n",
            "The loss at epoch 19 was 1.321884460227434\n",
            "The loss at epoch 20 was 1.3467204848001169\n",
            "The loss at epoch 21 was 1.3675893850104754\n",
            "The loss at epoch 22 was 1.2111705472302992\n",
            "The loss at epoch 23 was 1.2476608392804167\n",
            "The loss at epoch 24 was 1.1736647847086885\n",
            "The loss at epoch 25 was 1.0895692636800367\n",
            "The loss at epoch 26 was 1.003465131271717\n",
            "The loss at epoch 27 was 1.0159909143004306\n",
            "The loss at epoch 28 was 1.0547642652378526\n",
            "The loss at epoch 29 was 0.8670581094054288\n"
          ]
        },
        {
          "output_type": "display_data",
          "data": {
            "image/png": "[encoded data removed]",
            "text/plain": [
              "<Figure size 432x288 with 1 Axes>"
            ]
          },
          "metadata": {
            "needs_background": "light"
          }
        },
        {
          "output_type": "stream",
          "name": "stdout",
          "text": [
            "Training Completed.\n"
          ]
        }
      ]
    },
    {
      "cell_type": "code",
      "source": [
        "testset = SoliData(False,X_train,y_train,X_test,y_test)\n",
        "accu,conf_mat = test(testset,model,device,'CrossEntropy')\n",
        "print(accu)\n",
        "print(conf_mat)"
      ],
      "metadata": {
        "colab": {
          "base_uri": "https://localhost:8080/"
        },
        "id": "19pvs5RW0TWE",
        "outputId": "36d37c08-a963-4b0a-d890-e1ce219c8f3d"
      },
      "execution_count": null,
      "outputs": [
        {
          "output_type": "stream",
          "name": "stdout",
          "text": [
            "0.6466275659824047\n",
            "[[116   0   0   3   0   2   0   0   0   0   3]\n",
            " [  0  94  13   1   0   0   0   1  13   2   0]\n",
            " [ 11  26  54   4   3   2   1   1  17   3   2]\n",
            " [ 23   0   2  82   3   6   1   0   1   5   1]\n",
            " [  0   0   4   0  42   4  42   8  17   7   0]\n",
            " [  0   0   1   8   0  48  29   5   3  30   0]\n",
            " [  0   0   0   0   0   0 118   3   0   3   0]\n",
            " [  0   0   0   0   1   0  29  92   2   0   0]\n",
            " [  0   2   5   0  12   0   5   2  73  25   0]\n",
            " [  0   0   1   1   6   7  23   4  14  68   0]\n",
            " [ 28   1   0   0   0   0   0   0   0   0  95]]\n"
          ]
        }
      ]
    },
    {
      "cell_type": "markdown",
      "source": [
        "## Finetuning Pre-Trained"
      ],
      "metadata": {
        "id": "jOYFhzvNyIuO"
      }
    },
    {
      "cell_type": "markdown",
      "source": [
        "### ViT Base with IN 1k"
      ],
      "metadata": {
        "id": "-c_C5Eu3Wffm"
      }
    },
    {
      "cell_type": "code",
      "source": [
        "model = timm.create_model('vit_base_patch16_224', pretrained=True, num_classes=11)"
      ],
      "metadata": {
        "id": "hbBlhPz5IvhO"
      },
      "execution_count": null,
      "outputs": []
    },
    {
      "cell_type": "code",
      "source": [
        "print(model)"
      ],
      "metadata": {
        "id": "4wJ1ws_9IwyT",
        "outputId": "6e1b29e4-106b-4bd9-d37b-fb14f8d494b5",
        "colab": {
          "base_uri": "https://localhost:8080/"
        }
      },
      "execution_count": null,
      "outputs": [
        {
          "output_type": "stream",
          "name": "stdout",
          "text": [
            "VisionTransformer(\n",
            "  (patch_embed): PatchEmbed(\n",
            "    (proj): Conv2d(3, 768, kernel_size=(16, 16), stride=(16, 16))\n",
            "    (norm): Identity()\n",
            "  )\n",
            "  (pos_drop): Dropout(p=0.0, inplace=False)\n",
            "  (blocks): Sequential(\n",
            "    (0): Block(\n",
            "      (norm1): LayerNorm((768,), eps=1e-06, elementwise_affine=True)\n",
            "      (attn): Attention(\n",
            "        (qkv): Linear(in_features=768, out_features=2304, bias=True)\n",
            "        (attn_drop): Dropout(p=0.0, inplace=False)\n",
            "        (proj): Linear(in_features=768, out_features=768, bias=True)\n",
            "        (proj_drop): Dropout(p=0.0, inplace=False)\n",
            "      )\n",
            "      (drop_path): Identity()\n",
            "      (norm2): LayerNorm((768,), eps=1e-06, elementwise_affine=True)\n",
            "      (mlp): Mlp(\n",
            "        (fc1): Linear(in_features=768, out_features=3072, bias=True)\n",
            "        (act): GELU()\n",
            "        (drop1): Dropout(p=0.0, inplace=False)\n",
            "        (fc2): Linear(in_features=3072, out_features=768, bias=True)\n",
            "        (drop2): Dropout(p=0.0, inplace=False)\n",
            "      )\n",
            "    )\n",
            "    (1): Block(\n",
            "      (norm1): LayerNorm((768,), eps=1e-06, elementwise_affine=True)\n",
            "      (attn): Attention(\n",
            "        (qkv): Linear(in_features=768, out_features=2304, bias=True)\n",
            "        (attn_drop): Dropout(p=0.0, inplace=False)\n",
            "        (proj): Linear(in_features=768, out_features=768, bias=True)\n",
            "        (proj_drop): Dropout(p=0.0, inplace=False)\n",
            "      )\n",
            "      (drop_path): Identity()\n",
            "      (norm2): LayerNorm((768,), eps=1e-06, elementwise_affine=True)\n",
            "      (mlp): Mlp(\n",
            "        (fc1): Linear(in_features=768, out_features=3072, bias=True)\n",
            "        (act): GELU()\n",
            "        (drop1): Dropout(p=0.0, inplace=False)\n",
            "        (fc2): Linear(in_features=3072, out_features=768, bias=True)\n",
            "        (drop2): Dropout(p=0.0, inplace=False)\n",
            "      )\n",
            "    )\n",
            "    (2): Block(\n",
            "      (norm1): LayerNorm((768,), eps=1e-06, elementwise_affine=True)\n",
            "      (attn): Attention(\n",
            "        (qkv): Linear(in_features=768, out_features=2304, bias=True)\n",
            "        (attn_drop): Dropout(p=0.0, inplace=False)\n",
            "        (proj): Linear(in_features=768, out_features=768, bias=True)\n",
            "        (proj_drop): Dropout(p=0.0, inplace=False)\n",
            "      )\n",
            "      (drop_path): Identity()\n",
            "      (norm2): LayerNorm((768,), eps=1e-06, elementwise_affine=True)\n",
            "      (mlp): Mlp(\n",
            "        (fc1): Linear(in_features=768, out_features=3072, bias=True)\n",
            "        (act): GELU()\n",
            "        (drop1): Dropout(p=0.0, inplace=False)\n",
            "        (fc2): Linear(in_features=3072, out_features=768, bias=True)\n",
            "        (drop2): Dropout(p=0.0, inplace=False)\n",
            "      )\n",
            "    )\n",
            "    (3): Block(\n",
            "      (norm1): LayerNorm((768,), eps=1e-06, elementwise_affine=True)\n",
            "      (attn): Attention(\n",
            "        (qkv): Linear(in_features=768, out_features=2304, bias=True)\n",
            "        (attn_drop): Dropout(p=0.0, inplace=False)\n",
            "        (proj): Linear(in_features=768, out_features=768, bias=True)\n",
            "        (proj_drop): Dropout(p=0.0, inplace=False)\n",
            "      )\n",
            "      (drop_path): Identity()\n",
            "      (norm2): LayerNorm((768,), eps=1e-06, elementwise_affine=True)\n",
            "      (mlp): Mlp(\n",
            "        (fc1): Linear(in_features=768, out_features=3072, bias=True)\n",
            "        (act): GELU()\n",
            "        (drop1): Dropout(p=0.0, inplace=False)\n",
            "        (fc2): Linear(in_features=3072, out_features=768, bias=True)\n",
            "        (drop2): Dropout(p=0.0, inplace=False)\n",
            "      )\n",
            "    )\n",
            "    (4): Block(\n",
            "      (norm1): LayerNorm((768,), eps=1e-06, elementwise_affine=True)\n",
            "      (attn): Attention(\n",
            "        (qkv): Linear(in_features=768, out_features=2304, bias=True)\n",
            "        (attn_drop): Dropout(p=0.0, inplace=False)\n",
            "        (proj): Linear(in_features=768, out_features=768, bias=True)\n",
            "        (proj_drop): Dropout(p=0.0, inplace=False)\n",
            "      )\n",
            "      (drop_path): Identity()\n",
            "      (norm2): LayerNorm((768,), eps=1e-06, elementwise_affine=True)\n",
            "      (mlp): Mlp(\n",
            "        (fc1): Linear(in_features=768, out_features=3072, bias=True)\n",
            "        (act): GELU()\n",
            "        (drop1): Dropout(p=0.0, inplace=False)\n",
            "        (fc2): Linear(in_features=3072, out_features=768, bias=True)\n",
            "        (drop2): Dropout(p=0.0, inplace=False)\n",
            "      )\n",
            "    )\n",
            "    (5): Block(\n",
            "      (norm1): LayerNorm((768,), eps=1e-06, elementwise_affine=True)\n",
            "      (attn): Attention(\n",
            "        (qkv): Linear(in_features=768, out_features=2304, bias=True)\n",
            "        (attn_drop): Dropout(p=0.0, inplace=False)\n",
            "        (proj): Linear(in_features=768, out_features=768, bias=True)\n",
            "        (proj_drop): Dropout(p=0.0, inplace=False)\n",
            "      )\n",
            "      (drop_path): Identity()\n",
            "      (norm2): LayerNorm((768,), eps=1e-06, elementwise_affine=True)\n",
            "      (mlp): Mlp(\n",
            "        (fc1): Linear(in_features=768, out_features=3072, bias=True)\n",
            "        (act): GELU()\n",
            "        (drop1): Dropout(p=0.0, inplace=False)\n",
            "        (fc2): Linear(in_features=3072, out_features=768, bias=True)\n",
            "        (drop2): Dropout(p=0.0, inplace=False)\n",
            "      )\n",
            "    )\n",
            "    (6): Block(\n",
            "      (norm1): LayerNorm((768,), eps=1e-06, elementwise_affine=True)\n",
            "      (attn): Attention(\n",
            "        (qkv): Linear(in_features=768, out_features=2304, bias=True)\n",
            "        (attn_drop): Dropout(p=0.0, inplace=False)\n",
            "        (proj): Linear(in_features=768, out_features=768, bias=True)\n",
            "        (proj_drop): Dropout(p=0.0, inplace=False)\n",
            "      )\n",
            "      (drop_path): Identity()\n",
            "      (norm2): LayerNorm((768,), eps=1e-06, elementwise_affine=True)\n",
            "      (mlp): Mlp(\n",
            "        (fc1): Linear(in_features=768, out_features=3072, bias=True)\n",
            "        (act): GELU()\n",
            "        (drop1): Dropout(p=0.0, inplace=False)\n",
            "        (fc2): Linear(in_features=3072, out_features=768, bias=True)\n",
            "        (drop2): Dropout(p=0.0, inplace=False)\n",
            "      )\n",
            "    )\n",
            "    (7): Block(\n",
            "      (norm1): LayerNorm((768,), eps=1e-06, elementwise_affine=True)\n",
            "      (attn): Attention(\n",
            "        (qkv): Linear(in_features=768, out_features=2304, bias=True)\n",
            "        (attn_drop): Dropout(p=0.0, inplace=False)\n",
            "        (proj): Linear(in_features=768, out_features=768, bias=True)\n",
            "        (proj_drop): Dropout(p=0.0, inplace=False)\n",
            "      )\n",
            "      (drop_path): Identity()\n",
            "      (norm2): LayerNorm((768,), eps=1e-06, elementwise_affine=True)\n",
            "      (mlp): Mlp(\n",
            "        (fc1): Linear(in_features=768, out_features=3072, bias=True)\n",
            "        (act): GELU()\n",
            "        (drop1): Dropout(p=0.0, inplace=False)\n",
            "        (fc2): Linear(in_features=3072, out_features=768, bias=True)\n",
            "        (drop2): Dropout(p=0.0, inplace=False)\n",
            "      )\n",
            "    )\n",
            "    (8): Block(\n",
            "      (norm1): LayerNorm((768,), eps=1e-06, elementwise_affine=True)\n",
            "      (attn): Attention(\n",
            "        (qkv): Linear(in_features=768, out_features=2304, bias=True)\n",
            "        (attn_drop): Dropout(p=0.0, inplace=False)\n",
            "        (proj): Linear(in_features=768, out_features=768, bias=True)\n",
            "        (proj_drop): Dropout(p=0.0, inplace=False)\n",
            "      )\n",
            "      (drop_path): Identity()\n",
            "      (norm2): LayerNorm((768,), eps=1e-06, elementwise_affine=True)\n",
            "      (mlp): Mlp(\n",
            "        (fc1): Linear(in_features=768, out_features=3072, bias=True)\n",
            "        (act): GELU()\n",
            "        (drop1): Dropout(p=0.0, inplace=False)\n",
            "        (fc2): Linear(in_features=3072, out_features=768, bias=True)\n",
            "        (drop2): Dropout(p=0.0, inplace=False)\n",
            "      )\n",
            "    )\n",
            "    (9): Block(\n",
            "      (norm1): LayerNorm((768,), eps=1e-06, elementwise_affine=True)\n",
            "      (attn): Attention(\n",
            "        (qkv): Linear(in_features=768, out_features=2304, bias=True)\n",
            "        (attn_drop): Dropout(p=0.0, inplace=False)\n",
            "        (proj): Linear(in_features=768, out_features=768, bias=True)\n",
            "        (proj_drop): Dropout(p=0.0, inplace=False)\n",
            "      )\n",
            "      (drop_path): Identity()\n",
            "      (norm2): LayerNorm((768,), eps=1e-06, elementwise_affine=True)\n",
            "      (mlp): Mlp(\n",
            "        (fc1): Linear(in_features=768, out_features=3072, bias=True)\n",
            "        (act): GELU()\n",
            "        (drop1): Dropout(p=0.0, inplace=False)\n",
            "        (fc2): Linear(in_features=3072, out_features=768, bias=True)\n",
            "        (drop2): Dropout(p=0.0, inplace=False)\n",
            "      )\n",
            "    )\n",
            "    (10): Block(\n",
            "      (norm1): LayerNorm((768,), eps=1e-06, elementwise_affine=True)\n",
            "      (attn): Attention(\n",
            "        (qkv): Linear(in_features=768, out_features=2304, bias=True)\n",
            "        (attn_drop): Dropout(p=0.0, inplace=False)\n",
            "        (proj): Linear(in_features=768, out_features=768, bias=True)\n",
            "        (proj_drop): Dropout(p=0.0, inplace=False)\n",
            "      )\n",
            "      (drop_path): Identity()\n",
            "      (norm2): LayerNorm((768,), eps=1e-06, elementwise_affine=True)\n",
            "      (mlp): Mlp(\n",
            "        (fc1): Linear(in_features=768, out_features=3072, bias=True)\n",
            "        (act): GELU()\n",
            "        (drop1): Dropout(p=0.0, inplace=False)\n",
            "        (fc2): Linear(in_features=3072, out_features=768, bias=True)\n",
            "        (drop2): Dropout(p=0.0, inplace=False)\n",
            "      )\n",
            "    )\n",
            "    (11): Block(\n",
            "      (norm1): LayerNorm((768,), eps=1e-06, elementwise_affine=True)\n",
            "      (attn): Attention(\n",
            "        (qkv): Linear(in_features=768, out_features=2304, bias=True)\n",
            "        (attn_drop): Dropout(p=0.0, inplace=False)\n",
            "        (proj): Linear(in_features=768, out_features=768, bias=True)\n",
            "        (proj_drop): Dropout(p=0.0, inplace=False)\n",
            "      )\n",
            "      (drop_path): Identity()\n",
            "      (norm2): LayerNorm((768,), eps=1e-06, elementwise_affine=True)\n",
            "      (mlp): Mlp(\n",
            "        (fc1): Linear(in_features=768, out_features=3072, bias=True)\n",
            "        (act): GELU()\n",
            "        (drop1): Dropout(p=0.0, inplace=False)\n",
            "        (fc2): Linear(in_features=3072, out_features=768, bias=True)\n",
            "        (drop2): Dropout(p=0.0, inplace=False)\n",
            "      )\n",
            "    )\n",
            "  )\n",
            "  (norm): LayerNorm((768,), eps=1e-06, elementwise_affine=True)\n",
            "  (pre_logits): Identity()\n",
            "  (head): Linear(in_features=768, out_features=11, bias=True)\n",
            ")\n"
          ]
        }
      ]
    },
    {
      "cell_type": "code",
      "source": [
        "model = timm.create_model('vit_base_patch16_224', pretrained=True, num_classes=11)\n",
        "trainset = SoliData(True,X_train,y_train,X_test,y_test)\n",
        "model = training(model,0.0003,loss_fn,30,32,'CrossEntropy',0.9,trainset,False,2.12,0.8,True)"
      ],
      "metadata": {
        "colab": {
          "base_uri": "https://localhost:8080/",
          "height": 885
        },
        "id": "oHIZMx8EBefJ",
        "outputId": "ae59c873-0ee5-4063-cf80-0e22b506cb3a"
      },
      "execution_count": null,
      "outputs": [
        {
          "output_type": "stream",
          "name": "stdout",
          "text": [
            "Data Setup Started\n",
            "Data Setup Completed\n",
            "Building model\n",
            "The loss at epoch 0 was 1.2558183351228402\n",
            "The loss at epoch 1 was 0.336710007384766\n",
            "The loss at epoch 2 was 0.44414605564156245\n",
            "The loss at epoch 3 was 0.2246985042164492\n",
            "The loss at epoch 4 was 0.35367030234530916\n",
            "The loss at epoch 5 was 0.16325974035574947\n",
            "The loss at epoch 6 was 0.3526293680418369\n",
            "The loss at epoch 7 was 0.13802189499053152\n",
            "The loss at epoch 8 was 0.21340250657048337\n",
            "The loss at epoch 9 was 0.12579116742884697\n",
            "The loss at epoch 10 was 0.141564367468967\n",
            "The loss at epoch 11 was 0.06553356750694991\n",
            "The loss at epoch 12 was 0.09792844231002205\n",
            "The loss at epoch 13 was 0.08331292237393385\n",
            "The loss at epoch 14 was 0.09673308278433979\n",
            "The loss at epoch 15 was 0.036348264797070866\n",
            "The loss at epoch 16 was 0.05099113748969272\n",
            "The loss at epoch 17 was 0.014792292420806492\n",
            "The loss at epoch 18 was 0.02185983277732428\n",
            "The loss at epoch 19 was 0.026419098402605645\n",
            "The loss at epoch 20 was 0.03504025810775073\n",
            "The loss at epoch 21 was 0.022874263103298036\n",
            "The loss at epoch 22 was 0.00861873939170754\n",
            "The loss at epoch 23 was 0.02356955544086685\n",
            "The loss at epoch 24 was 0.00496674988128657\n",
            "The loss at epoch 25 was 0.008639839322101982\n",
            "The loss at epoch 26 was 2.817248715409944e-05\n",
            "The loss at epoch 27 was 1.769795323980361e-05\n",
            "The loss at epoch 28 was 1.417210467553919e-05\n",
            "The loss at epoch 29 was 1.1899731116183068e-05\n"
          ]
        },
        {
          "output_type": "display_data",
          "data": {
            "image/png": "[encoded data removed]",
            "text/plain": [
              "<Figure size 432x288 with 1 Axes>"
            ]
          },
          "metadata": {
            "needs_background": "light"
          }
        },
        {
          "output_type": "stream",
          "name": "stdout",
          "text": [
            "Training Completed.\n"
          ]
        }
      ]
    },
    {
      "cell_type": "code",
      "source": [
        "testset = SoliData(False,X_train,y_train,X_test,y_test)\n",
        "accu,conf_mat = test(testset,model,device,'CrossEntropy')\n",
        "print(accu)\n",
        "print(conf_mat)"
      ],
      "metadata": {
        "id": "V1h6DTVByuxP",
        "colab": {
          "base_uri": "https://localhost:8080/"
        },
        "outputId": "ba691681-e9b1-405f-b4cc-615ae785cbef"
      },
      "execution_count": null,
      "outputs": [
        {
          "output_type": "stream",
          "name": "stdout",
          "text": [
            "0.9758064516129032\n",
            "[[116   0   0   4   0   0   0   0   0   0   4]\n",
            " [  0 124   0   0   0   0   0   0   0   0   0]\n",
            " [  0   0 121   3   0   0   0   0   0   0   0]\n",
            " [  9   0   2 112   1   0   0   0   0   0   0]\n",
            " [  0   0   1   1 122   0   0   0   0   0   0]\n",
            " [  0   0   0   0   0 124   0   0   0   0   0]\n",
            " [  0   0   0   0   0   1 123   0   0   0   0]\n",
            " [  0   0   0   0   0   0   0 124   0   0   0]\n",
            " [  0   0   0   0   0   0   0   0 124   0   0]\n",
            " [  0   0   0   0   0   0   0   0   2 122   0]\n",
            " [  4   0   0   1   0   0   0   0   0   0 119]]\n"
          ]
        }
      ]
    },
    {
      "cell_type": "code",
      "source": [
        "model = timm.create_model('vit_base_patch16_224', pretrained=True, num_classes=11)\n",
        "trainset = SoliData(True,X_train,y_train,X_test,y_test)\n",
        "model = training(model,0.0003,loss_fn,40,32,'CrossEntropy',0.9,trainset,False,2,12,0.8,True)"
      ],
      "metadata": {
        "colab": {
          "base_uri": "https://localhost:8080/",
          "height": 1000
        },
        "id": "qmIh2AZV1vCJ",
        "outputId": "71bd36f6-630f-40ab-e53c-38773c922d3b"
      },
      "execution_count": null,
      "outputs": [
        {
          "output_type": "stream",
          "name": "stdout",
          "text": [
            "Data Setup Started\n",
            "Data Setup Completed\n",
            "Building model\n",
            "The loss at epoch 0 was 1.2688723449097123\n",
            "The loss at epoch 1 was 0.34016608810702037\n",
            "The loss at epoch 2 was 0.48363659305627954\n",
            "The loss at epoch 3 was 0.20265914885283903\n",
            "The loss at epoch 4 was 0.3955411065456479\n",
            "The loss at epoch 5 was 0.16189507602952247\n",
            "The loss at epoch 6 was 0.25698647635100885\n",
            "The loss at epoch 7 was 0.19081977559903332\n",
            "The loss at epoch 8 was 0.2094768186121486\n",
            "The loss at epoch 9 was 0.14707982319212237\n",
            "The loss at epoch 10 was 0.18237991057076428\n",
            "The loss at epoch 11 was 0.0844186321225797\n",
            "The loss at epoch 12 was 0.12237940979904907\n",
            "The loss at epoch 13 was 0.04526438985323144\n",
            "The loss at epoch 14 was 0.07814599979982906\n",
            "The loss at epoch 15 was 0.03584001019907043\n",
            "The loss at epoch 16 was 0.05453608597244331\n",
            "The loss at epoch 17 was 0.008145558783516483\n",
            "The loss at epoch 18 was 0.06368319811955972\n",
            "The loss at epoch 19 was 0.011564284098418538\n",
            "The loss at epoch 20 was 0.014685902692330865\n",
            "The loss at epoch 21 was 0.02918751142190791\n",
            "The loss at epoch 22 was 0.008359224057722861\n",
            "The loss at epoch 23 was 0.010356640483773527\n",
            "The loss at epoch 24 was 0.028316781318587114\n",
            "The loss at epoch 25 was 0.007724221183210364\n",
            "The loss at epoch 26 was 0.002126391508169078\n",
            "The loss at epoch 27 was 0.0001753058106529817\n",
            "The loss at epoch 28 was 1.5534575248656713e-05\n",
            "The loss at epoch 29 was 1.235629932173038e-05\n",
            "The loss at epoch 30 was 1.0626019962559398e-05\n",
            "The loss at epoch 31 was 9.33376901854032e-06\n",
            "The loss at epoch 32 was 8.072542239587651e-06\n",
            "The loss at epoch 33 was 7.079641636135971e-06\n",
            "The loss at epoch 34 was 6.318644231013486e-06\n",
            "The loss at epoch 35 was 5.751678518103036e-06\n",
            "The loss at epoch 36 was 5.203714525038756e-06\n",
            "The loss at epoch 37 was 4.753139438794595e-06\n",
            "The loss at epoch 38 was 4.37103066556225e-06\n",
            "The loss at epoch 39 was 4.010019929383753e-06\n"
          ]
        },
        {
          "output_type": "display_data",
          "data": {
            "image/png": "[encoded data removed]",
            "text/plain": [
              "<Figure size 432x288 with 1 Axes>"
            ]
          },
          "metadata": {
            "needs_background": "light"
          }
        },
        {
          "output_type": "stream",
          "name": "stdout",
          "text": [
            "Training Completed.\n"
          ]
        }
      ]
    },
    {
      "cell_type": "code",
      "source": [
        "testset = SoliData(False,X_train,y_train,X_test,y_test)\n",
        "accu,conf_mat = test(testset,model,device,'CrossEntropy')\n",
        "print(accu)\n",
        "print(conf_mat)"
      ],
      "metadata": {
        "colab": {
          "base_uri": "https://localhost:8080/"
        },
        "id": "vwUY3DTn5Azn",
        "outputId": "609c419b-0e25-4757-acea-a9d4616c8df6"
      },
      "execution_count": null,
      "outputs": [
        {
          "output_type": "stream",
          "name": "stdout",
          "text": [
            "0.9772727272727273\n",
            "[[117   0   0   1   0   0   0   0   0   0   6]\n",
            " [  0 123   0   0   0   0   0   0   1   0   0]\n",
            " [  3   0 119   0   1   0   0   0   0   1   0]\n",
            " [ 13   0   1 108   2   0   0   0   0   0   0]\n",
            " [  0   0   0   0 124   0   0   0   0   0   0]\n",
            " [  0   0   0   0   0 124   0   0   0   0   0]\n",
            " [  0   0   0   0   0   1 123   0   0   0   0]\n",
            " [  0   0   0   0   0   0   0 124   0   0   0]\n",
            " [  0   0   0   0   0   0   0   0 124   0   0]\n",
            " [  0   0   0   0   0   0   0   0   0 124   0]\n",
            " [  1   0   0   0   0   0   0   0   0   0 123]]\n"
          ]
        }
      ]
    },
    {
      "cell_type": "markdown",
      "source": [
        "### ViT with ImageNet 21k"
      ],
      "metadata": {
        "id": "K6NzpYn9Bq5N"
      }
    },
    {
      "cell_type": "code",
      "source": [
        "from torchsummary import summary\n",
        "model = timm.create_model('vit_base_patch16_224_in21k', pretrained=True, num_classes=11)\n",
        "summary(model,input_size=(3,224,224))"
      ],
      "metadata": {
        "colab": {
          "base_uri": "https://localhost:8080/"
        },
        "id": "TO4uxFATasX_",
        "outputId": "130dab9a-a239-42a0-8a71-af2d66fab82d"
      },
      "execution_count": null,
      "outputs": [
        {
          "output_type": "stream",
          "name": "stdout",
          "text": [
            "----------------------------------------------------------------\n",
            "        Layer (type)               Output Shape         Param #\n",
            "================================================================\n",
            "            Conv2d-1          [-1, 768, 14, 14]         590,592\n",
            "          Identity-2             [-1, 196, 768]               0\n",
            "        PatchEmbed-3             [-1, 196, 768]               0\n",
            "           Dropout-4             [-1, 197, 768]               0\n",
            "         LayerNorm-5             [-1, 197, 768]           1,536\n",
            "            Linear-6            [-1, 197, 2304]       1,771,776\n",
            "           Dropout-7         [-1, 12, 197, 197]               0\n",
            "            Linear-8             [-1, 197, 768]         590,592\n",
            "           Dropout-9             [-1, 197, 768]               0\n",
            "        Attention-10             [-1, 197, 768]               0\n",
            "         Identity-11             [-1, 197, 768]               0\n",
            "        LayerNorm-12             [-1, 197, 768]           1,536\n",
            "           Linear-13            [-1, 197, 3072]       2,362,368\n",
            "             GELU-14            [-1, 197, 3072]               0\n",
            "          Dropout-15            [-1, 197, 3072]               0\n",
            "           Linear-16             [-1, 197, 768]       2,360,064\n",
            "          Dropout-17             [-1, 197, 768]               0\n",
            "              Mlp-18             [-1, 197, 768]               0\n",
            "         Identity-19             [-1, 197, 768]               0\n",
            "            Block-20             [-1, 197, 768]               0\n",
            "        LayerNorm-21             [-1, 197, 768]           1,536\n",
            "           Linear-22            [-1, 197, 2304]       1,771,776\n",
            "          Dropout-23         [-1, 12, 197, 197]               0\n",
            "           Linear-24             [-1, 197, 768]         590,592\n",
            "          Dropout-25             [-1, 197, 768]               0\n",
            "        Attention-26             [-1, 197, 768]               0\n",
            "         Identity-27             [-1, 197, 768]               0\n",
            "        LayerNorm-28             [-1, 197, 768]           1,536\n",
            "           Linear-29            [-1, 197, 3072]       2,362,368\n",
            "             GELU-30            [-1, 197, 3072]               0\n",
            "          Dropout-31            [-1, 197, 3072]               0\n",
            "           Linear-32             [-1, 197, 768]       2,360,064\n",
            "          Dropout-33             [-1, 197, 768]               0\n",
            "              Mlp-34             [-1, 197, 768]               0\n",
            "         Identity-35             [-1, 197, 768]               0\n",
            "            Block-36             [-1, 197, 768]               0\n",
            "        LayerNorm-37             [-1, 197, 768]           1,536\n",
            "           Linear-38            [-1, 197, 2304]       1,771,776\n",
            "          Dropout-39         [-1, 12, 197, 197]               0\n",
            "           Linear-40             [-1, 197, 768]         590,592\n",
            "          Dropout-41             [-1, 197, 768]               0\n",
            "        Attention-42             [-1, 197, 768]               0\n",
            "         Identity-43             [-1, 197, 768]               0\n",
            "        LayerNorm-44             [-1, 197, 768]           1,536\n",
            "           Linear-45            [-1, 197, 3072]       2,362,368\n",
            "             GELU-46            [-1, 197, 3072]               0\n",
            "          Dropout-47            [-1, 197, 3072]               0\n",
            "           Linear-48             [-1, 197, 768]       2,360,064\n",
            "          Dropout-49             [-1, 197, 768]               0\n",
            "              Mlp-50             [-1, 197, 768]               0\n",
            "         Identity-51             [-1, 197, 768]               0\n",
            "            Block-52             [-1, 197, 768]               0\n",
            "        LayerNorm-53             [-1, 197, 768]           1,536\n",
            "           Linear-54            [-1, 197, 2304]       1,771,776\n",
            "          Dropout-55         [-1, 12, 197, 197]               0\n",
            "           Linear-56             [-1, 197, 768]         590,592\n",
            "          Dropout-57             [-1, 197, 768]               0\n",
            "        Attention-58             [-1, 197, 768]               0\n",
            "         Identity-59             [-1, 197, 768]               0\n",
            "        LayerNorm-60             [-1, 197, 768]           1,536\n",
            "           Linear-61            [-1, 197, 3072]       2,362,368\n",
            "             GELU-62            [-1, 197, 3072]               0\n",
            "          Dropout-63            [-1, 197, 3072]               0\n",
            "           Linear-64             [-1, 197, 768]       2,360,064\n",
            "          Dropout-65             [-1, 197, 768]               0\n",
            "              Mlp-66             [-1, 197, 768]               0\n",
            "         Identity-67             [-1, 197, 768]               0\n",
            "            Block-68             [-1, 197, 768]               0\n",
            "        LayerNorm-69             [-1, 197, 768]           1,536\n",
            "           Linear-70            [-1, 197, 2304]       1,771,776\n",
            "          Dropout-71         [-1, 12, 197, 197]               0\n",
            "           Linear-72             [-1, 197, 768]         590,592\n",
            "          Dropout-73             [-1, 197, 768]               0\n",
            "        Attention-74             [-1, 197, 768]               0\n",
            "         Identity-75             [-1, 197, 768]               0\n",
            "        LayerNorm-76             [-1, 197, 768]           1,536\n",
            "           Linear-77            [-1, 197, 3072]       2,362,368\n",
            "             GELU-78            [-1, 197, 3072]               0\n",
            "          Dropout-79            [-1, 197, 3072]               0\n",
            "           Linear-80             [-1, 197, 768]       2,360,064\n",
            "          Dropout-81             [-1, 197, 768]               0\n",
            "              Mlp-82             [-1, 197, 768]               0\n",
            "         Identity-83             [-1, 197, 768]               0\n",
            "            Block-84             [-1, 197, 768]               0\n",
            "        LayerNorm-85             [-1, 197, 768]           1,536\n",
            "           Linear-86            [-1, 197, 2304]       1,771,776\n",
            "          Dropout-87         [-1, 12, 197, 197]               0\n",
            "           Linear-88             [-1, 197, 768]         590,592\n",
            "          Dropout-89             [-1, 197, 768]               0\n",
            "        Attention-90             [-1, 197, 768]               0\n",
            "         Identity-91             [-1, 197, 768]               0\n",
            "        LayerNorm-92             [-1, 197, 768]           1,536\n",
            "           Linear-93            [-1, 197, 3072]       2,362,368\n",
            "             GELU-94            [-1, 197, 3072]               0\n",
            "          Dropout-95            [-1, 197, 3072]               0\n",
            "           Linear-96             [-1, 197, 768]       2,360,064\n",
            "          Dropout-97             [-1, 197, 768]               0\n",
            "              Mlp-98             [-1, 197, 768]               0\n",
            "         Identity-99             [-1, 197, 768]               0\n",
            "           Block-100             [-1, 197, 768]               0\n",
            "       LayerNorm-101             [-1, 197, 768]           1,536\n",
            "          Linear-102            [-1, 197, 2304]       1,771,776\n",
            "         Dropout-103         [-1, 12, 197, 197]               0\n",
            "          Linear-104             [-1, 197, 768]         590,592\n",
            "         Dropout-105             [-1, 197, 768]               0\n",
            "       Attention-106             [-1, 197, 768]               0\n",
            "        Identity-107             [-1, 197, 768]               0\n",
            "       LayerNorm-108             [-1, 197, 768]           1,536\n",
            "          Linear-109            [-1, 197, 3072]       2,362,368\n",
            "            GELU-110            [-1, 197, 3072]               0\n",
            "         Dropout-111            [-1, 197, 3072]               0\n",
            "          Linear-112             [-1, 197, 768]       2,360,064\n",
            "         Dropout-113             [-1, 197, 768]               0\n",
            "             Mlp-114             [-1, 197, 768]               0\n",
            "        Identity-115             [-1, 197, 768]               0\n",
            "           Block-116             [-1, 197, 768]               0\n",
            "       LayerNorm-117             [-1, 197, 768]           1,536\n",
            "          Linear-118            [-1, 197, 2304]       1,771,776\n",
            "         Dropout-119         [-1, 12, 197, 197]               0\n",
            "          Linear-120             [-1, 197, 768]         590,592\n",
            "         Dropout-121             [-1, 197, 768]               0\n",
            "       Attention-122             [-1, 197, 768]               0\n",
            "        Identity-123             [-1, 197, 768]               0\n",
            "       LayerNorm-124             [-1, 197, 768]           1,536\n",
            "          Linear-125            [-1, 197, 3072]       2,362,368\n",
            "            GELU-126            [-1, 197, 3072]               0\n",
            "         Dropout-127            [-1, 197, 3072]               0\n",
            "          Linear-128             [-1, 197, 768]       2,360,064\n",
            "         Dropout-129             [-1, 197, 768]               0\n",
            "             Mlp-130             [-1, 197, 768]               0\n",
            "        Identity-131             [-1, 197, 768]               0\n",
            "           Block-132             [-1, 197, 768]               0\n",
            "       LayerNorm-133             [-1, 197, 768]           1,536\n",
            "          Linear-134            [-1, 197, 2304]       1,771,776\n",
            "         Dropout-135         [-1, 12, 197, 197]               0\n",
            "          Linear-136             [-1, 197, 768]         590,592\n",
            "         Dropout-137             [-1, 197, 768]               0\n",
            "       Attention-138             [-1, 197, 768]               0\n",
            "        Identity-139             [-1, 197, 768]               0\n",
            "       LayerNorm-140             [-1, 197, 768]           1,536\n",
            "          Linear-141            [-1, 197, 3072]       2,362,368\n",
            "            GELU-142            [-1, 197, 3072]               0\n",
            "         Dropout-143            [-1, 197, 3072]               0\n",
            "          Linear-144             [-1, 197, 768]       2,360,064\n",
            "         Dropout-145             [-1, 197, 768]               0\n",
            "             Mlp-146             [-1, 197, 768]               0\n",
            "        Identity-147             [-1, 197, 768]               0\n",
            "           Block-148             [-1, 197, 768]               0\n",
            "       LayerNorm-149             [-1, 197, 768]           1,536\n",
            "          Linear-150            [-1, 197, 2304]       1,771,776\n",
            "         Dropout-151         [-1, 12, 197, 197]               0\n",
            "          Linear-152             [-1, 197, 768]         590,592\n",
            "         Dropout-153             [-1, 197, 768]               0\n",
            "       Attention-154             [-1, 197, 768]               0\n",
            "        Identity-155             [-1, 197, 768]               0\n",
            "       LayerNorm-156             [-1, 197, 768]           1,536\n",
            "          Linear-157            [-1, 197, 3072]       2,362,368\n",
            "            GELU-158            [-1, 197, 3072]               0\n",
            "         Dropout-159            [-1, 197, 3072]               0\n",
            "          Linear-160             [-1, 197, 768]       2,360,064\n",
            "         Dropout-161             [-1, 197, 768]               0\n",
            "             Mlp-162             [-1, 197, 768]               0\n",
            "        Identity-163             [-1, 197, 768]               0\n",
            "           Block-164             [-1, 197, 768]               0\n",
            "       LayerNorm-165             [-1, 197, 768]           1,536\n",
            "          Linear-166            [-1, 197, 2304]       1,771,776\n",
            "         Dropout-167         [-1, 12, 197, 197]               0\n",
            "          Linear-168             [-1, 197, 768]         590,592\n",
            "         Dropout-169             [-1, 197, 768]               0\n",
            "       Attention-170             [-1, 197, 768]               0\n",
            "        Identity-171             [-1, 197, 768]               0\n",
            "       LayerNorm-172             [-1, 197, 768]           1,536\n",
            "          Linear-173            [-1, 197, 3072]       2,362,368\n",
            "            GELU-174            [-1, 197, 3072]               0\n",
            "         Dropout-175            [-1, 197, 3072]               0\n",
            "          Linear-176             [-1, 197, 768]       2,360,064\n",
            "         Dropout-177             [-1, 197, 768]               0\n",
            "             Mlp-178             [-1, 197, 768]               0\n",
            "        Identity-179             [-1, 197, 768]               0\n",
            "           Block-180             [-1, 197, 768]               0\n",
            "       LayerNorm-181             [-1, 197, 768]           1,536\n",
            "          Linear-182            [-1, 197, 2304]       1,771,776\n",
            "         Dropout-183         [-1, 12, 197, 197]               0\n",
            "          Linear-184             [-1, 197, 768]         590,592\n",
            "         Dropout-185             [-1, 197, 768]               0\n",
            "       Attention-186             [-1, 197, 768]               0\n",
            "        Identity-187             [-1, 197, 768]               0\n",
            "       LayerNorm-188             [-1, 197, 768]           1,536\n",
            "          Linear-189            [-1, 197, 3072]       2,362,368\n",
            "            GELU-190            [-1, 197, 3072]               0\n",
            "         Dropout-191            [-1, 197, 3072]               0\n",
            "          Linear-192             [-1, 197, 768]       2,360,064\n",
            "         Dropout-193             [-1, 197, 768]               0\n",
            "             Mlp-194             [-1, 197, 768]               0\n",
            "        Identity-195             [-1, 197, 768]               0\n",
            "           Block-196             [-1, 197, 768]               0\n",
            "       LayerNorm-197             [-1, 197, 768]           1,536\n",
            "        Identity-198                  [-1, 768]               0\n",
            "          Linear-199                   [-1, 11]           8,459\n",
            "================================================================\n",
            "Total params: 85,655,051\n",
            "Trainable params: 85,655,051\n",
            "Non-trainable params: 0\n",
            "----------------------------------------------------------------\n",
            "Input size (MB): 0.57\n",
            "Forward/backward pass size (MB): 408.54\n",
            "Params size (MB): 326.75\n",
            "Estimated Total Size (MB): 735.86\n",
            "----------------------------------------------------------------\n"
          ]
        }
      ]
    },
    {
      "cell_type": "code",
      "source": [
        "model = timm.create_model('vit_base_patch16_224_in21k', pretrained=True, num_classes=11)\n",
        "trainset = SoliData(True,X_train,y_train,X_test,y_test)\n",
        "model = training(model,0.0003,loss_fn,40,32,'CrossEntropy',0.9,trainset,False,2,12,0.8,True)"
      ],
      "metadata": {
        "colab": {
          "base_uri": "https://localhost:8080/",
          "height": 1000
        },
        "id": "1P2-DX5HB0V-",
        "outputId": "9a9d1c3e-f993-46d5-f1df-eb3a2e89f477"
      },
      "execution_count": null,
      "outputs": [
        {
          "output_type": "stream",
          "name": "stdout",
          "text": [
            "Data Setup Started\n",
            "Data Setup Completed\n",
            "Building model\n",
            "The loss at epoch 0 was 1.347926448944003\n",
            "The loss at epoch 1 was 0.34962425675503045\n",
            "The loss at epoch 2 was 0.5716953811257385\n",
            "The loss at epoch 3 was 0.2272414364093958\n",
            "The loss at epoch 4 was 0.46572007013614786\n",
            "The loss at epoch 5 was 0.20969309458552404\n",
            "The loss at epoch 6 was 0.3123818279872107\n",
            "The loss at epoch 7 was 0.1976563051169695\n",
            "The loss at epoch 8 was 0.2825498498629692\n",
            "The loss at epoch 9 was 0.1431564190533272\n",
            "The loss at epoch 10 was 0.2108800606152346\n",
            "The loss at epoch 11 was 0.13591479524147027\n",
            "The loss at epoch 12 was 0.13318042549153053\n",
            "The loss at epoch 13 was 0.06857376775249492\n",
            "The loss at epoch 14 was 0.11303877042129983\n",
            "The loss at epoch 15 was 0.04710623235333451\n",
            "The loss at epoch 16 was 0.06722372449558163\n",
            "The loss at epoch 17 was 0.0407997252240907\n",
            "The loss at epoch 18 was 0.039999259995204546\n",
            "The loss at epoch 19 was 0.06906089474897842\n",
            "The loss at epoch 20 was 0.05097869263679672\n",
            "The loss at epoch 21 was 0.021247924950182285\n",
            "The loss at epoch 22 was 0.02162179954160989\n",
            "The loss at epoch 23 was 0.017069236651772117\n",
            "The loss at epoch 24 was 0.016483136790416106\n",
            "The loss at epoch 25 was 0.015324258059842768\n",
            "The loss at epoch 26 was 0.04103343067833711\n",
            "The loss at epoch 27 was 0.0024853842413756146\n",
            "The loss at epoch 28 was 0.00011438372033342941\n",
            "The loss at epoch 29 was 6.785008514101676e-05\n",
            "The loss at epoch 30 was 5.083948833597005e-05\n",
            "The loss at epoch 31 was 4.077779021827155e-05\n",
            "The loss at epoch 32 was 3.3376512953699875e-05\n",
            "The loss at epoch 33 was 2.844085915861543e-05\n",
            "The loss at epoch 34 was 2.3529602061856612e-05\n",
            "The loss at epoch 35 was 2.0029907902828073e-05\n",
            "The loss at epoch 36 was 1.84418492058602e-05\n",
            "The loss at epoch 37 was 1.4847976796434438e-05\n",
            "The loss at epoch 38 was 1.2435032736680854e-05\n",
            "The loss at epoch 39 was 1.0481756756361878e-05\n"
          ]
        },
        {
          "output_type": "display_data",
          "data": {
            "image/png": "[encoded data removed]",
            "text/plain": [
              "<Figure size 432x288 with 1 Axes>"
            ]
          },
          "metadata": {
            "needs_background": "light"
          }
        },
        {
          "output_type": "stream",
          "name": "stdout",
          "text": [
            "Training Completed.\n"
          ]
        }
      ]
    },
    {
      "cell_type": "code",
      "source": [
        "testset = SoliData(False,X_train,y_train,X_test,y_test)\n",
        "accu,conf_mat = test(testset,model,device,'CrossEntropy')\n",
        "print(accu)\n",
        "print(conf_mat)"
      ],
      "metadata": {
        "colab": {
          "base_uri": "https://localhost:8080/"
        },
        "id": "4AWFLqZDCBpL",
        "outputId": "cd21ed90-03d7-4fd2-9542-eb47ecc78a0a"
      },
      "execution_count": null,
      "outputs": [
        {
          "output_type": "stream",
          "name": "stdout",
          "text": [
            "0.9831378299120235\n",
            "[[118   0   0   4   0   0   0   0   0   0   2]\n",
            " [  0 124   0   0   0   0   0   0   0   0   0]\n",
            " [  0   0 119   2   2   1   0   0   0   0   0]\n",
            " [  8   0   1 114   1   0   0   0   0   0   0]\n",
            " [  0   0   0   0 124   0   0   0   0   0   0]\n",
            " [  0   0   0   0   0 124   0   0   0   0   0]\n",
            " [  0   0   0   0   0   1 123   0   0   0   0]\n",
            " [  0   0   0   0   0   0   0 124   0   0   0]\n",
            " [  0   0   0   0   0   0   0   0 124   0   0]\n",
            " [  0   0   0   0   0   0   0   0   0 124   0]\n",
            " [  1   0   0   0   0   0   0   0   0   0 123]]\n"
          ]
        }
      ]
    },
    {
      "cell_type": "markdown",
      "source": [
        "### Ablation Studies on IN-21k"
      ],
      "metadata": {
        "id": "qVR4DBD8X6wa"
      }
    },
    {
      "cell_type": "markdown",
      "source": [
        "#### 3 blocks"
      ],
      "metadata": {
        "id": "bcf2Bd6yaEhK"
      }
    },
    {
      "cell_type": "code",
      "source": [
        "model = timm.create_model('vit_base_patch16_224_in21k', pretrained=True, num_classes=11)\n",
        "blocks_to_keep = 3\n",
        "model.blocks = torch.nn.Sequential(*[model.blocks[i] for i in range(blocks_to_keep)])\n",
        "trainset = SoliData(True,X_train,y_train,X_test,y_test)\n",
        "model = training(model,0.0003,loss_fn,50,32,'CrossEntropy',0.9,trainset,False,3,blocks_to_keep,0.5,True)\n",
        "testset = SoliData(False,X_train,y_train,X_test,y_test)\n",
        "accu,conf_mat = test(testset,model,device,'CrossEntropy')\n",
        "print(accu)\n",
        "print(conf_mat)"
      ],
      "metadata": {
        "colab": {
          "base_uri": "https://localhost:8080/",
          "height": 1000
        },
        "id": "iHPVSTY9X-49",
        "outputId": "ce1b5f05-8722-449a-84ea-cfbd38a0524f"
      },
      "execution_count": null,
      "outputs": [
        {
          "output_type": "stream",
          "name": "stdout",
          "text": [
            "Data Setup Started\n",
            "Data Setup Completed\n",
            "Building model\n",
            "The loss at epoch 0 was 2.3396287491155223\n",
            "The loss at epoch 1 was 1.6802233901134758\n",
            "The loss at epoch 2 was 1.213671863079071\n",
            "The loss at epoch 3 was 1.1507957106412843\n",
            "The loss at epoch 4 was 0.6516251376895017\n",
            "The loss at epoch 5 was 0.5304331523041392\n",
            "The loss at epoch 6 was 0.46465698577636894\n",
            "The loss at epoch 7 was 0.33634323089621787\n",
            "The loss at epoch 8 was 0.28838887559466586\n",
            "The loss at epoch 9 was 0.21260325246772102\n",
            "The loss at epoch 10 was 0.1796799565470496\n",
            "The loss at epoch 11 was 0.1382059123973514\n",
            "The loss at epoch 12 was 0.10024969353405543\n",
            "The loss at epoch 13 was 0.12973845147982585\n",
            "The loss at epoch 14 was 0.09809041218182375\n",
            "The loss at epoch 15 was 0.06502157760524126\n",
            "The loss at epoch 16 was 0.10117786806509939\n",
            "The loss at epoch 17 was 0.08105135361425751\n",
            "The loss at epoch 18 was 0.14749072256043208\n",
            "The loss at epoch 19 was 0.05910567519103372\n",
            "The loss at epoch 20 was 0.04615772761361197\n",
            "The loss at epoch 21 was 0.027328621907441248\n",
            "The loss at epoch 22 was 0.023781592092682543\n",
            "The loss at epoch 23 was 0.06407201448035817\n",
            "The loss at epoch 24 was 0.05164360556058412\n",
            "The loss at epoch 25 was 0.027072411769632855\n",
            "The loss at epoch 26 was 0.014885966923239445\n",
            "The loss at epoch 27 was 0.004778136941198216\n",
            "The loss at epoch 28 was 0.003124584314380542\n",
            "The loss at epoch 29 was 0.001615649795831116\n",
            "The loss at epoch 30 was 0.0012649644760490764\n",
            "The loss at epoch 31 was 0.0012810725473723006\n",
            "The loss at epoch 32 was 0.0015135861785681702\n",
            "The loss at epoch 33 was 0.011205154008145422\n",
            "The loss at epoch 34 was 0.0859175271105541\n",
            "The loss at epoch 35 was 0.06349868545048805\n",
            "The loss at epoch 36 was 0.017092139235437783\n",
            "The loss at epoch 37 was 0.011217886860195418\n",
            "The loss at epoch 38 was 0.0034572716200315435\n",
            "The loss at epoch 39 was 0.0011120797103632318\n",
            "The loss at epoch 40 was 0.0007010470186752743\n",
            "The loss at epoch 41 was 0.0005704980775230662\n",
            "The loss at epoch 42 was 0.00047897279533614447\n",
            "The loss at epoch 43 was 0.0004297090218156078\n",
            "The loss at epoch 44 was 0.00037514265720748756\n",
            "The loss at epoch 45 was 0.00033943564444915714\n",
            "The loss at epoch 46 was 0.0003077086292377803\n",
            "The loss at epoch 47 was 0.00028801487099181666\n",
            "The loss at epoch 48 was 0.0002609612058941546\n",
            "The loss at epoch 49 was 0.00024084630599962873\n"
          ]
        },
        {
          "output_type": "display_data",
          "data": {
            "image/png": "[encoded data removed]",
            "text/plain": [
              "<Figure size 432x288 with 1 Axes>"
            ]
          },
          "metadata": {
            "needs_background": "light"
          }
        },
        {
          "output_type": "stream",
          "name": "stdout",
          "text": [
            "Training Completed.\n",
            "0.9450146627565983\n",
            "[[111   0   0   6   0   0   0   0   0   0   7]\n",
            " [  0 124   0   0   0   0   0   0   0   0   0]\n",
            " [  8   1 108   4   2   0   0   0   0   1   0]\n",
            " [ 10   0   1 107   3   0   0   0   0   1   2]\n",
            " [  0   0   1   0 119   1   0   0   3   0   0]\n",
            " [  0   0   0   0   0 120   0   0   0   4   0]\n",
            " [  0   0   0   0   0   4 120   0   0   0   0]\n",
            " [  0   0   0   0   0   0   0 124   0   0   0]\n",
            " [  0   0   0   0   0   0   0   0 123   1   0]\n",
            " [  0   0   0   0   2   7   2   0   2 111   0]\n",
            " [  2   0   0   0   0   0   0   0   0   0 122]]\n"
          ]
        }
      ]
    },
    {
      "cell_type": "markdown",
      "source": [
        "#### 6 blocks"
      ],
      "metadata": {
        "id": "SJGpjbQojNpq"
      }
    },
    {
      "cell_type": "code",
      "source": [
        "model = timm.create_model('vit_base_patch16_224_in21k', pretrained=True, num_classes=11)\n",
        "blocks_to_keep = 6\n",
        "model.blocks = torch.nn.Sequential(*[model.blocks[i] for i in range(blocks_to_keep)])\n",
        "trainset = SoliData(True,X_train,y_train,X_test,y_test)\n",
        "model = training(model,0.0003,loss_fn,35,32,'CrossEntropy',0.9,trainset,False,3,blocks_to_keep,0.64,True)\n",
        "testset = SoliData(False,X_train,y_train,X_test,y_test)\n",
        "accu,conf_mat = test(testset,model,device,'CrossEntropy')\n",
        "print(accu)\n",
        "print(conf_mat)"
      ],
      "metadata": {
        "colab": {
          "base_uri": "https://localhost:8080/",
          "height": 1000
        },
        "id": "wmkbkVGfjPYO",
        "outputId": "dc0165b9-a9a7-49a0-b4d4-34f6f7c8878d"
      },
      "execution_count": null,
      "outputs": [
        {
          "output_type": "stream",
          "name": "stdout",
          "text": [
            "Data Setup Started\n",
            "Data Setup Completed\n",
            "Building model\n",
            "The loss at epoch 0 was 1.7145504549492236\n",
            "The loss at epoch 1 was 0.7892050895580026\n",
            "The loss at epoch 2 was 0.445246831275696\n",
            "The loss at epoch 3 was 0.6702941850174305\n",
            "The loss at epoch 4 was 0.26306866750467656\n",
            "The loss at epoch 5 was 0.17764956348164138\n",
            "The loss at epoch 6 was 0.3282253285653369\n",
            "The loss at epoch 7 was 0.14467681554514308\n",
            "The loss at epoch 8 was 0.11919156280021335\n",
            "The loss at epoch 9 was 0.14309956077053104\n",
            "The loss at epoch 10 was 0.07499324755613195\n",
            "The loss at epoch 11 was 0.10774179554522731\n",
            "The loss at epoch 12 was 0.1264652389231636\n",
            "The loss at epoch 13 was 0.05695701860497857\n",
            "The loss at epoch 14 was 0.048107879431268506\n",
            "The loss at epoch 15 was 0.04505018885572289\n",
            "The loss at epoch 16 was 0.02224553579756947\n",
            "The loss at epoch 17 was 0.012647043316635888\n",
            "The loss at epoch 18 was 0.00893005671596891\n",
            "The loss at epoch 19 was 0.01729363537573548\n",
            "The loss at epoch 20 was 0.005734003286877766\n",
            "The loss at epoch 21 was 0.012283809986276834\n",
            "The loss at epoch 22 was 0.0023569563903059368\n",
            "The loss at epoch 23 was 0.016070970502982545\n",
            "The loss at epoch 24 was 0.010446106948176409\n",
            "The loss at epoch 25 was 0.001687488835497873\n",
            "The loss at epoch 26 was 0.0002006060485443815\n",
            "The loss at epoch 27 was 9.715178621686497e-05\n",
            "The loss at epoch 28 was 7.637717186129479e-05\n",
            "The loss at epoch 29 was 6.506433910121708e-05\n",
            "The loss at epoch 30 was 5.703945902665552e-05\n",
            "The loss at epoch 31 was 5.0943104957526845e-05\n",
            "The loss at epoch 32 was 4.628196449291779e-05\n",
            "The loss at epoch 33 was 4.2529811528152626e-05\n",
            "The loss at epoch 34 was 3.9136661482273686e-05\n"
          ]
        },
        {
          "output_type": "display_data",
          "data": {
            "image/png": "[encoded data removed]",
            "text/plain": [
              "<Figure size 432x288 with 1 Axes>"
            ]
          },
          "metadata": {
            "needs_background": "light"
          }
        },
        {
          "output_type": "stream",
          "name": "stdout",
          "text": [
            "Training Completed.\n",
            "0.967008797653959\n",
            "[[113   0   4   5   0   0   0   0   0   0   2]\n",
            " [  0 124   0   0   0   0   0   0   0   0   0]\n",
            " [  0   0 116   4   1   0   0   0   0   3   0]\n",
            " [  7   0   1 111   1   2   0   0   0   0   2]\n",
            " [  0   0   1   0 119   0   0   0   1   3   0]\n",
            " [  0   0   0   0   0 123   0   0   0   1   0]\n",
            " [  0   0   0   0   0   1 123   0   0   0   0]\n",
            " [  0   0   0   0   0   0   0 124   0   0   0]\n",
            " [  0   0   0   0   0   0   0   0 123   1   0]\n",
            " [  0   0   0   0   1   0   0   0   1 122   0]\n",
            " [  1   0   1   1   0   0   0   0   0   0 121]]\n"
          ]
        }
      ]
    },
    {
      "cell_type": "code",
      "source": [
        "model = timm.create_model('vit_base_patch32_224_in21k', pretrained=True, num_classes=11)\n",
        "blocks_to_keep = 6\n",
        "model.blocks = torch.nn.Sequential(*[model.blocks[i] for i in range(blocks_to_keep)])\n",
        "trainset = SoliData(True,X_train,y_train,X_test,y_test)\n",
        "model = training(model,0.0003,loss_fn,35,32,'CrossEntropy',0.9,trainset,False,3,blocks_to_keep,0.64,True)\n",
        "testset = SoliData(False,X_train,y_train,X_test,y_test)\n",
        "accu,conf_mat = test(testset,model,device,'CrossEntropy')\n",
        "print(accu)\n",
        "print(conf_mat)"
      ],
      "metadata": {
        "colab": {
          "base_uri": "https://localhost:8080/",
          "height": 1000
        },
        "id": "e8bDW3rkuLEF",
        "outputId": "0f463d46-7d1e-451f-bd5f-137a099cf45c"
      },
      "execution_count": null,
      "outputs": [
        {
          "output_type": "stream",
          "name": "stdout",
          "text": [
            "Data Setup Started\n",
            "Data Setup Completed\n",
            "Building model\n",
            "The loss at epoch 0 was 2.0165208134540293\n",
            "The loss at epoch 1 was 1.051939567854238\n",
            "The loss at epoch 2 was 0.5697142294673032\n",
            "The loss at epoch 3 was 0.7111676404642504\n",
            "The loss at epoch 4 was 0.31723826551853224\n",
            "The loss at epoch 5 was 0.24527521275503691\n",
            "The loss at epoch 6 was 0.28121346737756286\n",
            "The loss at epoch 7 was 0.14979156752138637\n",
            "The loss at epoch 8 was 0.11067826331181582\n",
            "The loss at epoch 9 was 0.1413228299122217\n",
            "The loss at epoch 10 was 0.10130693079080692\n",
            "The loss at epoch 11 was 0.04441188101461807\n",
            "The loss at epoch 12 was 0.054829853695145876\n",
            "The loss at epoch 13 was 0.027987727787085744\n",
            "The loss at epoch 14 was 0.014479440201052227\n",
            "The loss at epoch 15 was 0.016678473747032154\n",
            "The loss at epoch 16 was 0.006861483679575369\n",
            "The loss at epoch 17 was 0.030379736322238175\n",
            "The loss at epoch 18 was 0.01224475335817091\n",
            "The loss at epoch 19 was 0.004409373882713966\n",
            "The loss at epoch 20 was 0.0006435136019717902\n",
            "The loss at epoch 21 was 0.00020045414888489514\n",
            "The loss at epoch 22 was 0.00015617118079653877\n",
            "The loss at epoch 23 was 0.0001302212455579307\n",
            "The loss at epoch 24 was 0.00010992192188115401\n",
            "The loss at epoch 25 was 9.551887968311433e-05\n",
            "The loss at epoch 26 was 8.51893729241267e-05\n",
            "The loss at epoch 27 was 7.628105734955509e-05\n",
            "The loss at epoch 28 was 6.611768853766736e-05\n",
            "The loss at epoch 29 was 5.939640001553587e-05\n",
            "The loss at epoch 30 was 5.4148860494193326e-05\n",
            "The loss at epoch 31 was 4.878724436377186e-05\n",
            "The loss at epoch 32 was 4.531613829089491e-05\n",
            "The loss at epoch 33 was 4.2107353290829936e-05\n",
            "The loss at epoch 34 was 3.7884185033807055e-05\n"
          ]
        },
        {
          "output_type": "display_data",
          "data": {
            "image/png": "[encoded data removed]",
            "text/plain": [
              "<Figure size 432x288 with 1 Axes>"
            ]
          },
          "metadata": {
            "needs_background": "light"
          }
        },
        {
          "output_type": "stream",
          "name": "stdout",
          "text": [
            "Training Completed.\n",
            "0.9721407624633431\n",
            "[[118   0   0   3   0   0   0   0   0   0   3]\n",
            " [  0 123   0   0   0   0   0   0   1   0   0]\n",
            " [  3   0 115   1   1   0   0   0   0   4   0]\n",
            " [ 10   0   1 110   3   0   0   0   0   0   0]\n",
            " [  0   0   0   0 124   0   0   0   0   0   0]\n",
            " [  0   0   0   0   0 124   0   0   0   0   0]\n",
            " [  0   0   0   0   0   2 122   0   0   0   0]\n",
            " [  0   0   0   0   0   0   0 124   0   0   0]\n",
            " [  0   0   0   0   0   0   0   0 124   0   0]\n",
            " [  0   0   0   0   1   0   0   0   0 123   0]\n",
            " [  5   0   0   0   0   0   0   0   0   0 119]]\n"
          ]
        }
      ]
    },
    {
      "cell_type": "markdown",
      "source": [
        "#### 9 blocks"
      ],
      "metadata": {
        "id": "EGmSfVt9xtUG"
      }
    },
    {
      "cell_type": "code",
      "source": [
        "model = timm.create_model('vit_base_patch16_224_in21k', pretrained=True, num_classes=11)\n",
        "blocks_to_keep = 9\n",
        "model.blocks = torch.nn.Sequential(*[model.blocks[i] for i in range(blocks_to_keep)])\n",
        "trainset = SoliData(True,X_train,y_train,X_test,y_test)\n",
        "model = training(model,0.0003,loss_fn,35,32,'CrossEntropy',0.9,trainset,False,2,blocks_to_keep,0.75,True)\n",
        "testset = SoliData(False,X_train,y_train,X_test,y_test)\n",
        "accu,conf_mat = test(testset,model,device,'CrossEntropy')\n",
        "print(accu)\n",
        "print(conf_mat)"
      ],
      "metadata": {
        "colab": {
          "base_uri": "https://localhost:8080/",
          "height": 1000
        },
        "outputId": "842ac5ad-f5bf-49e6-a7a8-fb12cc39e85f",
        "id": "m49FuqqWxtUi"
      },
      "execution_count": null,
      "outputs": [
        {
          "output_type": "stream",
          "name": "stdout",
          "text": [
            "Data Setup Started\n",
            "Data Setup Completed\n",
            "Building model\n",
            "The loss at epoch 0 was 1.6077949016593223\n",
            "The loss at epoch 1 was 0.5848031570745069\n",
            "The loss at epoch 2 was 0.6315476977547934\n",
            "The loss at epoch 3 was 0.2931257382381794\n",
            "The loss at epoch 4 was 0.38806694927950236\n",
            "The loss at epoch 5 was 0.20980044142451398\n",
            "The loss at epoch 6 was 0.24021344185741836\n",
            "The loss at epoch 7 was 0.14588709777697575\n",
            "The loss at epoch 8 was 0.2015944777359796\n",
            "The loss at epoch 9 was 0.09500857511925143\n",
            "The loss at epoch 10 was 0.11674097412114226\n",
            "The loss at epoch 11 was 0.059133226306415924\n",
            "The loss at epoch 12 was 0.11101930850553651\n",
            "The loss at epoch 13 was 0.03137499264571383\n",
            "The loss at epoch 14 was 0.050188273160317695\n",
            "The loss at epoch 15 was 0.03249268662076184\n",
            "The loss at epoch 16 was 0.01871162531985414\n",
            "The loss at epoch 17 was 0.018028790097708036\n",
            "The loss at epoch 18 was 0.015496545470404969\n",
            "The loss at epoch 19 was 0.0037140773882890434\n",
            "The loss at epoch 20 was 0.019735639820282813\n",
            "The loss at epoch 21 was 0.03515888677658188\n",
            "The loss at epoch 22 was 0.01579615904890044\n",
            "The loss at epoch 23 was 0.009766803349965242\n",
            "The loss at epoch 24 was 0.022794491131292508\n",
            "The loss at epoch 25 was 0.016109893546071848\n",
            "The loss at epoch 26 was 0.01794871500666442\n",
            "The loss at epoch 27 was 0.016680860970197057\n",
            "The loss at epoch 28 was 0.0037111509588802893\n",
            "The loss at epoch 29 was 0.0002739194194788958\n",
            "The loss at epoch 30 was 6.425799780794646e-05\n",
            "The loss at epoch 31 was 5.2362205996211934e-05\n",
            "The loss at epoch 32 was 4.2623869778126816e-05\n",
            "The loss at epoch 33 was 3.731213691512388e-05\n",
            "The loss at epoch 34 was 3.3545889056217993e-05\n"
          ]
        },
        {
          "output_type": "display_data",
          "data": {
            "image/png": "[encoded data removed]",
            "text/plain": [
              "<Figure size 432x288 with 1 Axes>"
            ]
          },
          "metadata": {
            "needs_background": "light"
          }
        },
        {
          "output_type": "stream",
          "name": "stdout",
          "text": [
            "Training Completed.\n",
            "0.9794721407624634\n",
            "[[116   0   0   5   0   0   0   0   0   0   3]\n",
            " [  0 124   0   0   0   0   0   0   0   0   0]\n",
            " [  1   0 120   3   0   0   0   0   0   0   0]\n",
            " [  6   0   1 113   4   0   0   0   0   0   0]\n",
            " [  0   0   0   1 123   0   0   0   0   0   0]\n",
            " [  0   0   0   0   0 124   0   0   0   0   0]\n",
            " [  0   0   0   0   0   0 124   0   0   0   0]\n",
            " [  0   0   0   0   0   0   0 124   0   0   0]\n",
            " [  0   0   0   0   0   0   0   0 124   0   0]\n",
            " [  0   0   0   0   0   0   0   0   0 124   0]\n",
            " [  3   0   0   1   0   0   0   0   0   0 120]]\n"
          ]
        }
      ]
    },
    {
      "cell_type": "code",
      "source": [
        "model = timm.create_model('vit_base_patch32_224_in21k', pretrained=True, num_classes=11)\n",
        "blocks_to_keep = 9\n",
        "model.blocks = torch.nn.Sequential(*[model.blocks[i] for i in range(blocks_to_keep)])\n",
        "trainset = SoliData(True,X_train,y_train,X_test,y_test)\n",
        "model = training(model,0.0003,loss_fn,35,32,'CrossEntropy',0.9,trainset,False,2,blocks_to_keep,0.75,True)\n",
        "testset = SoliData(False,X_train,y_train,X_test,y_test)\n",
        "accu,conf_mat = test(testset,model,device,'CrossEntropy')\n",
        "print(accu)\n",
        "print(conf_mat)"
      ],
      "metadata": {
        "colab": {
          "base_uri": "https://localhost:8080/",
          "height": 1000
        },
        "outputId": "6063be55-5158-49b4-9c06-cad8b1c53671",
        "id": "mlTMXTW2xtUj"
      },
      "execution_count": null,
      "outputs": [
        {
          "output_type": "stream",
          "name": "stdout",
          "text": [
            "Data Setup Started\n",
            "Data Setup Completed\n",
            "Building model\n",
            "The loss at epoch 0 was 2.026282690292181\n",
            "The loss at epoch 1 was 1.1379224228304485\n",
            "The loss at epoch 2 was 0.85209617434546\n",
            "The loss at epoch 3 was 0.4212559485851332\n",
            "The loss at epoch 4 was 0.4815190441386644\n",
            "The loss at epoch 5 was 0.23080352659142295\n",
            "The loss at epoch 6 was 0.30592831336828163\n",
            "The loss at epoch 7 was 0.13574719827535542\n",
            "The loss at epoch 8 was 0.19501902249663375\n",
            "The loss at epoch 9 was 0.11454219674301702\n",
            "The loss at epoch 10 was 0.11533037330522093\n",
            "The loss at epoch 11 was 0.05479810503852922\n",
            "The loss at epoch 12 was 0.06563977810532548\n",
            "The loss at epoch 13 was 0.04042086564545888\n",
            "The loss at epoch 14 was 0.03669403824240489\n",
            "The loss at epoch 15 was 0.01084465776275042\n",
            "The loss at epoch 16 was 0.007390112343357963\n",
            "The loss at epoch 17 was 0.019614426739281043\n",
            "The loss at epoch 18 was 0.006287343261647038\n",
            "The loss at epoch 19 was 0.0009121371074078799\n",
            "The loss at epoch 20 was 0.000153455516843932\n",
            "The loss at epoch 21 was 0.0001020502328851022\n",
            "The loss at epoch 22 was 8.015632835828678e-05\n",
            "The loss at epoch 23 was 6.597338941964852e-05\n",
            "The loss at epoch 24 was 5.655424117089011e-05\n",
            "The loss at epoch 25 was 4.723769293483455e-05\n",
            "The loss at epoch 26 was 4.1299451262349e-05\n",
            "The loss at epoch 27 was 3.560215385690288e-05\n",
            "The loss at epoch 28 was 3.1538005185761585e-05\n",
            "The loss at epoch 29 was 2.8033300898028374e-05\n",
            "The loss at epoch 30 was 2.520172994652882e-05\n",
            "The loss at epoch 31 was 2.2922066036276086e-05\n",
            "The loss at epoch 32 was 2.0888815237582137e-05\n",
            "The loss at epoch 33 was 1.8877315649787794e-05\n",
            "The loss at epoch 34 was 1.7420024685338303e-05\n"
          ]
        },
        {
          "output_type": "display_data",
          "data": {
            "image/png": "[encoded data removed]",
            "text/plain": [
              "<Figure size 432x288 with 1 Axes>"
            ]
          },
          "metadata": {
            "needs_background": "light"
          }
        },
        {
          "output_type": "stream",
          "name": "stdout",
          "text": [
            "Training Completed.\n",
            "0.9728739002932552\n",
            "[[115   0   1   3   0   0   0   0   0   0   5]\n",
            " [  0 124   0   0   0   0   0   0   0   0   0]\n",
            " [  4   0 115   1   3   0   0   0   0   1   0]\n",
            " [  6   0   1 115   1   0   0   0   0   0   1]\n",
            " [  0   0   0   0 124   0   0   0   0   0   0]\n",
            " [  0   0   0   0   0 124   0   0   0   0   0]\n",
            " [  0   0   0   0   0   2 122   0   0   0   0]\n",
            " [  0   0   0   0   0   0   0 124   0   0   0]\n",
            " [  0   0   0   0   0   0   0   0 124   0   0]\n",
            " [  0   0   0   0   0   1   0   0   0 123   0]\n",
            " [  6   0   0   1   0   0   0   0   0   0 117]]\n"
          ]
        }
      ]
    },
    {
      "cell_type": "markdown",
      "source": [
        "## TODO"
      ],
      "metadata": {
        "id": "3ruRWnHwWol-"
      }
    },
    {
      "cell_type": "markdown",
      "source": [
        "Training from scratch[doesn't seem a good idea]         \n",
        "change optimizer settings to add some weight decay[to prevent overfit]         \n",
        "ViViT       \n",
        "Increasing epcohs             \n",
        "Using larger/Huge ViT       \n",
        "Metric learning (Triplet loss + AM Softmax)       \n",
        "Try out some augmentations          \n",
        "Try out 384 resolution as well      \n",
        "Patch_size for model"
      ],
      "metadata": {
        "id": "JazqjyE8VJ-s"
      }
    }
  ]
}